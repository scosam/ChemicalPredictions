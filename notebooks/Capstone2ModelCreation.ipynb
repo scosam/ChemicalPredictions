{
 "cells": [
  {
   "cell_type": "markdown",
   "metadata": {},
   "source": [
    "# Introduction"
   ]
  },
  {
   "cell_type": "markdown",
   "metadata": {},
   "source": [
    "The purpose of this analysis is to answer 3 questions:\n",
    "\n",
    "1. What is the tradeoff between model accuracy and the size of the training data set?\n",
    "2. What is the tradeoff between model accuracy and the number of sensors used?\n",
    "3. Does the accuracy of the sensors change over time?\n",
    "\n",
    "Now we could argue that there is an additional question in regards to the interaction effect between the training size and the number of sensors. We can explore that question as well if time allows. So, now comes the most important question\n",
    "\n",
    "__Why do we care about these questions?__  \n",
    "\n",
    "The reason we care about the first question is because experimentation can be laborious and time consuming. We want to be able to start accurately predicting the chemicals to save precious time that could be better spent on something besides testing.\n",
    "\n",
    "The reason we care about the second question is because the more sensors required in equipment using these sensors for processing the more expensive it will be.\n",
    "\n",
    "The reason we care about third questions is because like everything phyisical in life, the sensors have a quantifiable usable life. Eventually, they will break down and no longer function. However, before the sensor completely fails, it will experience a decrease in performance at some unknown rate, typically known as drift. We would like to determine if there is any indication of drift occuring."
   ]
  },
  {
   "cell_type": "markdown",
   "metadata": {},
   "source": [
    "# Import Packages & Data"
   ]
  },
  {
   "cell_type": "markdown",
   "metadata": {},
   "source": [
    "## Import Packages"
   ]
  },
  {
   "cell_type": "code",
   "execution_count": 132,
   "metadata": {},
   "outputs": [],
   "source": [
    "import numpy as np\n",
    "import pandas as pd\n",
    "import os\n",
    "import matplotlib.pyplot as plt\n",
    "import seaborn as sns\n",
    "from sklearn.decomposition import PCA\n",
    "from sklearn.preprocessing import StandardScaler\n",
    "from sklearn.model_selection import train_test_split, cross_val_score, GridSearchCV\n",
    "from sklearn.linear_model import Lasso\n",
    "from sklearn.pipeline import Pipeline\n",
    "from sklearn.dummy import DummyClassifier\n",
    "from sklearn.metrics import classification_report, confusion_matrix, ConfusionMatrixDisplay\n",
    "from sklearn.tree import DecisionTreeClassifier, export_graphviz\n",
    "import graphviz"
   ]
  },
  {
   "cell_type": "markdown",
   "metadata": {},
   "source": [
    "## Import Data"
   ]
  },
  {
   "cell_type": "code",
   "execution_count": 3,
   "metadata": {},
   "outputs": [],
   "source": [
    "#Get the relative local folder where the data is stored\n",
    "base_fpath = os.getcwd() #the file path to the working directory of the code\n",
    "d_path = base_fpath.replace('notebooks', 'data') #raw data file path\n",
    "\n",
    "s_data = pd.read_csv(d_path + '/gas_data_cleaned.csv') #sensor data"
   ]
  },
  {
   "cell_type": "markdown",
   "metadata": {},
   "source": [
    "# Scale Data & Feature Reduction/Selection"
   ]
  },
  {
   "cell_type": "markdown",
   "metadata": {},
   "source": [
    "## Split the Data"
   ]
  },
  {
   "cell_type": "code",
   "execution_count": 37,
   "metadata": {},
   "outputs": [],
   "source": [
    "ind_vars = s_data.drop(columns=['ChemicalCode', 'Concentration', 'BatchNumber']).columns #column names of the independent variables\n",
    "tt_data = s_data[s_data['BatchNumber'] <= 5] #train test dataset\n",
    "X_tt = tt_data[ind_vars] #train test independent variable dataset\n",
    "y_tt_code = tt_data['ChemicalCode'] #1st dependent variable\n",
    "y_tt_con = tt_data['Concentration'] #2nd dependent variable\n",
    "\n",
    "test_size = .3\n",
    "X_train, X_test, y_code_train, y_code_test = train_test_split(X_tt, y_tt_code, test_size=test_size, random_state=1991, stratify=y_tt_code) #split the data 1st time\n",
    "X_train, X_test, y_con_train, y_con_test = train_test_split(X_tt, y_tt_con, test_size=test_size, random_state=1991, stratify=y_tt_code) #split the data for the second dependent variable, should be the same\n",
    "\n",
    "f_data = s_data[s_data['BatchNumber'] > 5] #future dataset\n",
    "X_f = f_data[ind_vars] #train test independent variable dataset\n",
    "y_f_code = f_data['ChemicalCode'] #1st dependent variable\n",
    "y_f_con = f_data['Concentration'] #2nd dependent variable"
   ]
  },
  {
   "cell_type": "markdown",
   "metadata": {},
   "source": [
    "## Scale the Data"
   ]
  },
  {
   "cell_type": "code",
   "execution_count": 38,
   "metadata": {},
   "outputs": [],
   "source": [
    "ss = StandardScaler().fit(X_train)\n",
    "X_train_s = pd.DataFrame(ss.transform(X_train), columns=ind_vars)\n",
    "X_test_s = pd.DataFrame(ss.transform(X_test), columns=ind_vars)\n",
    "X_f_s = pd.DataFrame(ss.transform(X_f), columns=ind_vars)"
   ]
  },
  {
   "cell_type": "markdown",
   "metadata": {},
   "source": [
    "## Feature Reduction/Selection"
   ]
  },
  {
   "cell_type": "markdown",
   "metadata": {},
   "source": [
    "### High Correlation Method"
   ]
  },
  {
   "cell_type": "code",
   "execution_count": 15,
   "metadata": {},
   "outputs": [],
   "source": [
    "X_corr_train = pd.read_csv(d_path + '/CorrelationMethod/train.csv')\n",
    "X_corr_test = pd.read_csv(d_path + '/CorrelationMethod/test.csv')\n",
    "X_corr_f = pd.read_csv(d_path + '/CorrelationMethod/future.csv')"
   ]
  },
  {
   "cell_type": "markdown",
   "metadata": {},
   "source": [
    "# Classification of Chemical Species"
   ]
  },
  {
   "cell_type": "markdown",
   "metadata": {},
   "source": [
    "## Baseline Model Creation"
   ]
  },
  {
   "cell_type": "code",
   "execution_count": 46,
   "metadata": {},
   "outputs": [
    {
     "name": "stdout",
     "output_type": "stream",
     "text": [
      "              precision    recall  f1-score   support\n",
      "\n",
      "           1       0.22      0.17      0.19       213\n",
      "           2       0.28      0.19      0.23       302\n",
      "           3       0.13      0.17      0.15       129\n",
      "           4       0.08      0.11      0.09       136\n",
      "           5       0.24      0.16      0.19       286\n",
      "           6       0.01      0.08      0.02        24\n",
      "\n",
      "    accuracy                           0.16      1090\n",
      "   macro avg       0.16      0.15      0.15      1090\n",
      "weighted avg       0.21      0.16      0.18      1090\n",
      "\n"
     ]
    },
    {
     "data": {
      "image/png": "[encoded data removed]",
      "text/plain": [
       "<Figure size 432x288 with 2 Axes>"
      ]
     },
     "metadata": {
      "needs_background": "light"
     },
     "output_type": "display_data"
    }
   ],
   "source": [
    "# Randomly Choose a Chemical Species\n",
    "dc_rand = DummyClassifier(strategy = 'uniform', random_state=1991) #create a model that randomly chooses chemicals\n",
    "dc_rand.fit(X_corr_train, y_code_train)\n",
    "dc_rand.score(X_corr_train, y_code_train)\n",
    "print(classification_report(y_code_test, dc_rand.predict(X_corr_test)))\n",
    "\n",
    "ConfusionMatrixDisplay(confusion_matrix(y_code_test, dc_rand.predict(X_corr_test)), display_labels=dc_rand.classes_).plot() #display the confusion matrix\n",
    "plt.show()"
   ]
  },
  {
   "cell_type": "markdown",
   "metadata": {},
   "source": [
    "Using a random method we would expect the accuracy to be approximately 1 in 6 chance, 16.7%, of guessing the correct number. In this case we had a model accuracy of 16%, so near theoretical. We could also create a model based on the most frequent chemical or account for the distribution of the chemicals tested."
   ]
  },
  {
   "cell_type": "code",
   "execution_count": 47,
   "metadata": {},
   "outputs": [
    {
     "name": "stdout",
     "output_type": "stream",
     "text": [
      "              precision    recall  f1-score   support\n",
      "\n",
      "           1       0.00      0.00      0.00       213\n",
      "           2       0.28      1.00      0.43       302\n",
      "           3       0.00      0.00      0.00       129\n",
      "           4       0.00      0.00      0.00       136\n",
      "           5       0.00      0.00      0.00       286\n",
      "           6       0.00      0.00      0.00        24\n",
      "\n",
      "    accuracy                           0.28      1090\n",
      "   macro avg       0.05      0.17      0.07      1090\n",
      "weighted avg       0.08      0.28      0.12      1090\n",
      "\n"
     ]
    },
    {
     "name": "stderr",
     "output_type": "stream",
     "text": [
      "C:\\Users\\sscov\\anaconda3\\lib\\site-packages\\sklearn\\metrics\\_classification.py:1221: UndefinedMetricWarning: Precision and F-score are ill-defined and being set to 0.0 in labels with no predicted samples. Use `zero_division` parameter to control this behavior.\n",
      "  _warn_prf(average, modifier, msg_start, len(result))\n"
     ]
    }
   ],
   "source": [
    "# Always Choose the Most Frequent Chemical Species\n",
    "dc_rand = DummyClassifier(strategy = 'most_frequent', random_state=1991) #create a model that chooses the most frequent chemical code in the training set\n",
    "dc_rand.fit(X_corr_train, y_code_train)\n",
    "dc_rand.score(X_corr_train, y_code_train)\n",
    "print(classification_report(y_code_test, dc_rand.predict(X_corr_test)))"
   ]
  },
  {
   "cell_type": "markdown",
   "metadata": {},
   "source": [
    "In this case our accuracy is 28%, which is the heighest we've seen so far and we can use this model for our baseline performance."
   ]
  },
  {
   "cell_type": "markdown",
   "metadata": {},
   "source": [
    "## Intermediate Model Creation"
   ]
  },
  {
   "cell_type": "markdown",
   "metadata": {},
   "source": [
    "### Classification Tree"
   ]
  },
  {
   "cell_type": "code",
   "execution_count": 74,
   "metadata": {},
   "outputs": [
    {
     "name": "stdout",
     "output_type": "stream",
     "text": [
      "The full model has a depth of 34 and has 1082 leaves\n",
      "\n",
      "\n",
      "              precision    recall  f1-score   support\n",
      "\n",
      "           1       0.18      0.17      0.17       213\n",
      "           2       0.28      0.28      0.28       302\n",
      "           3       0.15      0.16      0.15       129\n",
      "           4       0.15      0.18      0.16       136\n",
      "           5       0.26      0.24      0.25       286\n",
      "           6       0.05      0.04      0.04        24\n",
      "\n",
      "    accuracy                           0.22      1090\n",
      "   macro avg       0.18      0.18      0.18      1090\n",
      "weighted avg       0.22      0.22      0.22      1090\n",
      "\n"
     ]
    }
   ],
   "source": [
    "# Model Creation\n",
    "dt_corr = DecisionTreeClassifier()\n",
    "dt_corr.fit(X_corr_train, y_code_train)\n",
    "\n",
    "print('The full model has a depth of {} and has {} leaves'.format(dt.get_depth(), dt.get_n_leaves()))\n",
    "print('\\n')\n",
    "print(classification_report(y_code_test, dt.predict(X_corr_test)))"
   ]
  },
  {
   "cell_type": "markdown",
   "metadata": {},
   "source": [
    "Based on the number of leaves and depth we can already tell that this model is huge and extremely over fit to the training data. Also when we look at the model accuracy we see that it actually scored less than our most frequent dummy classifier that we created above. In other words we created a very complex model and obtained results worse than guessing a single value. However, lets quickly look at the decision tree to help us get a sense of scale of just how big the tree is."
   ]
  },
  {
   "cell_type": "code",
   "execution_count": 67,
   "metadata": {},
   "outputs": [
    {
     "name": "stderr",
     "output_type": "stream",
     "text": [
      "dot: graph is too large for cairo-renderer bitmaps. Scaling by 0.512168 to fit\n"
     ]
    },
    {
     "data": {
      "text/plain": [
       "'Source.gv.png'"
      ]
     },
     "execution_count": 67,
     "metadata": {},
     "output_type": "execute_result"
    },
    {
     "data": {
      "text/plain": [
       "<Figure size 1080x720 with 0 Axes>"
      ]
     },
     "metadata": {},
     "output_type": "display_data"
    }
   ],
   "source": [
    "# Tree Visualization\n",
    "from IPython.display import Image \n",
    "_ = plt.figure(figsize = (15,10))\n",
    "dot_data = export_graphviz(dt_corr, out_file=None, filled=True, rounded=True, feature_names=X_corr_train.columns, impurity=False, class_names=str(dt_corr.classes_))\n",
    "\n",
    "graph = graphviz.Source(dot_data)\n",
    "graph.format = 'png'\n",
    "graph.render()\n",
    "#display(graph)"
   ]
  },
  {
   "cell_type": "markdown",
   "metadata": {},
   "source": [
    "The graph was way too large to have it inline, so here is the imported picture of the tree. We can see that the tree is extremely wide compared to how deep it is as it fits each element perfectly. Let's now trim the tree by specifiying a maximum depth.\n",
    "![alt text](Source.png \"Full Classification Tree\")"
   ]
  },
  {
   "cell_type": "code",
   "execution_count": 84,
   "metadata": {},
   "outputs": [
    {
     "data": {
      "image/png": "[encoded data removed]",
      "text/plain": [
       "<Figure size 432x288 with 1 Axes>"
      ]
     },
     "metadata": {
      "needs_background": "light"
     },
     "output_type": "display_data"
    }
   ],
   "source": [
    "#Tree Depth Selection\n",
    "depth_scores = [] #list to capture the accuracy based on tree depth\n",
    "\n",
    "for d in range(3, 20):\n",
    "    dt = DecisionTreeClassifier(max_depth=d, random_state=1991) #create a model with the specified maximum tree depth\n",
    "    dt.fit(X_corr_train, y_code_train) #use the correlation data set\n",
    "    depth_scores.append(dt.score(X_corr_test, y_code_test)) #update the score list\n",
    "\n",
    "plt.plot(range(3,20), depth_scores, marker='o')\n",
    "plt.title('Model accuracy vs. tree depth')\n",
    "plt.ylabel('Accuracy')\n",
    "plt.xlabel('Tree depth')\n",
    "\n",
    "plt.show()"
   ]
  },
  {
   "cell_type": "markdown",
   "metadata": {},
   "source": [
    "For the most part the model accuracy seems to linearly decrease with respect to the tree depth, with no distinct elbow. Let's also try controlling the maximum number of leaves."
   ]
  },
  {
   "cell_type": "code",
   "execution_count": 85,
   "metadata": {},
   "outputs": [
    {
     "data": {
      "image/png": "[encoded data removed]",
      "text/plain": [
       "<Figure size 432x288 with 1 Axes>"
      ]
     },
     "metadata": {
      "needs_background": "light"
     },
     "output_type": "display_data"
    }
   ],
   "source": [
    "#Tree Depth Selection\n",
    "leaf_scores = [] #list to captue the accurcy based on the number of leaves\n",
    "\n",
    "for l in range(10, 501, 2):\n",
    "    dt = DecisionTreeClassifier(max_leaf_nodes=l, random_state=1991) #create a model with the specified amount of leaves\n",
    "    dt.fit(X_corr_train, y_code_train) #use the correlation data set\n",
    "    leaf_scores.append(dt.score(X_corr_test, y_code_test)) #update the score list\n",
    "\n",
    "plt.plot(range(10,501, 2), leaf_scores, marker='o')\n",
    "plt.title('Model accuracy vs. tree depth')\n",
    "plt.xlabel('Number of Leaves')\n",
    "plt.ylabel('Accuracy')\n",
    "\n",
    "plt.show()"
   ]
  },
  {
   "cell_type": "markdown",
   "metadata": {},
   "source": [
    "although we can see a trend or peak value in each of the tradeoffs developed we still do not have better model accuracy than our basic model. This could either be the result of the correlation method we chose to use for the feature selection or we need to choose a better modeling method. Let's try working with the entire feature set first with a simple model and see if we can get better accuracy than our baseline."
   ]
  },
  {
   "cell_type": "code",
   "execution_count": 109,
   "metadata": {},
   "outputs": [
    {
     "data": {
      "image/png": "[encoded data removed]",
      "text/plain": [
       "<Figure size 432x288 with 1 Axes>"
      ]
     },
     "metadata": {
      "needs_background": "light"
     },
     "output_type": "display_data"
    }
   ],
   "source": [
    "depth_scores = [] #list to capture the accuracy based on the maximum tree depth\n",
    "\n",
    "for d in range(3, 20):\n",
    "    dt = DecisionTreeClassifier(max_depth=d, random_state=1991) #create a model with the specified maximum tree depth\n",
    "    dt.fit(X_train, y_code_train) #use the full feature data set\n",
    "    depth_scores.append([dt.score(X_train, y_code_train),dt.score(X_test, y_code_test)]) #update the score list\n",
    "\n",
    "plt.plot(range(3,20), depth_scores, marker='o')\n",
    "plt.title('Model accuracy vs. tree depth')\n",
    "plt.ylabel('Accuracy')\n",
    "plt.xlabel('Tree depth')\n",
    "plt.legend(labels=['Train','Test'])\n",
    "plt.grid(True)\n",
    "\n",
    "plt.show()"
   ]
  },
  {
   "cell_type": "markdown",
   "metadata": {},
   "source": [
    "The graph above looks a lot more like we would expect. At the very begining it is encouraging to see that even with a single layer tree depth we get an accuracy of 86% on our test data. From there, the accuracy steadily increases as we move away from underfitting, until it peaks out at a depth of 8. Then it it takes a dip as we start to overfit our training dataset. At a depth of approximately 11 we see the accuracy taper off sugesting that the full tree most does not require a depth gerater than 11 to fit all of the data points. To make sure we are not missing out on any of the individual classes, lets look at the classification report using a tree depth of 8."
   ]
  },
  {
   "cell_type": "code",
   "execution_count": 88,
   "metadata": {},
   "outputs": [
    {
     "name": "stdout",
     "output_type": "stream",
     "text": [
      "The full model has a depth of 8 and has 55 leaves\n",
      "\n",
      "\n",
      "              precision    recall  f1-score   support\n",
      "\n",
      "           1       0.98      0.96      0.97       213\n",
      "           2       0.99      1.00      0.99       302\n",
      "           3       0.96      0.98      0.97       129\n",
      "           4       0.96      0.93      0.95       136\n",
      "           5       0.98      0.99      0.99       286\n",
      "           6       1.00      0.96      0.98        24\n",
      "\n",
      "    accuracy                           0.98      1090\n",
      "   macro avg       0.98      0.97      0.97      1090\n",
      "weighted avg       0.98      0.98      0.98      1090\n",
      "\n"
     ]
    }
   ],
   "source": [
    "dt = DecisionTreeClassifier(max_depth=8, random_state=1991)\n",
    "dt.fit(X_train, y_code_train)\n",
    "\n",
    "print('The full model has a depth of {} and has {} leaves'.format(dt.get_depth(), dt.get_n_leaves()))\n",
    "print('\\n')\n",
    "print(classification_report(y_code_test, dt.predict(X_test)))"
   ]
  },
  {
   "cell_type": "markdown",
   "metadata": {},
   "source": [
    "So although we are now using the full feature set, our model can obtain 98% accuracy on the test data, well above our baseline, with only 55 leaves and a tree depth of 8. This indicates to me that the correlation feature set is not well suited for predicting the chemical being processed. Let's look at the importance of each feature in this prediction and look how it differs from our correlation feature set."
   ]
  },
  {
   "cell_type": "code",
   "execution_count": 118,
   "metadata": {},
   "outputs": [
    {
     "data": {
      "text/html": [
       "<div>\n",
       "<style scoped>\n",
       "    .dataframe tbody tr th:only-of-type {\n",
       "        vertical-align: middle;\n",
       "    }\n",
       "\n",
       "    .dataframe tbody tr th {\n",
       "        vertical-align: top;\n",
       "    }\n",
       "\n",
       "    .dataframe thead th {\n",
       "        text-align: right;\n",
       "    }\n",
       "</style>\n",
       "<table border=\"1\" class=\"dataframe\">\n",
       "  <thead>\n",
       "    <tr style=\"text-align: right;\">\n",
       "      <th></th>\n",
       "      <th>Variable</th>\n",
       "      <th>Importance</th>\n",
       "    </tr>\n",
       "  </thead>\n",
       "  <tbody>\n",
       "    <tr>\n",
       "      <th>3</th>\n",
       "      <td>EMAd0.001_1</td>\n",
       "      <td>0.259254</td>\n",
       "    </tr>\n",
       "    <tr>\n",
       "      <th>7</th>\n",
       "      <td>EMAd0.1_2</td>\n",
       "      <td>0.225337</td>\n",
       "    </tr>\n",
       "    <tr>\n",
       "      <th>17</th>\n",
       "      <td>|DR|_7</td>\n",
       "      <td>0.156137</td>\n",
       "    </tr>\n",
       "    <tr>\n",
       "      <th>25</th>\n",
       "      <td>|DR|_10</td>\n",
       "      <td>0.090562</td>\n",
       "    </tr>\n",
       "    <tr>\n",
       "      <th>39</th>\n",
       "      <td>EMAi0.1_13</td>\n",
       "      <td>0.045117</td>\n",
       "    </tr>\n",
       "    <tr>\n",
       "      <th>21</th>\n",
       "      <td>|DR|_9</td>\n",
       "      <td>0.031711</td>\n",
       "    </tr>\n",
       "    <tr>\n",
       "      <th>0</th>\n",
       "      <td>DR_1</td>\n",
       "      <td>0.031325</td>\n",
       "    </tr>\n",
       "    <tr>\n",
       "      <th>10</th>\n",
       "      <td>DR_4</td>\n",
       "      <td>0.023777</td>\n",
       "    </tr>\n",
       "    <tr>\n",
       "      <th>29</th>\n",
       "      <td>EMAi0.01_11</td>\n",
       "      <td>0.017797</td>\n",
       "    </tr>\n",
       "    <tr>\n",
       "      <th>14</th>\n",
       "      <td>|DR|_6</td>\n",
       "      <td>0.016492</td>\n",
       "    </tr>\n",
       "    <tr>\n",
       "      <th>38</th>\n",
       "      <td>EMAi0.001_13</td>\n",
       "      <td>0.011834</td>\n",
       "    </tr>\n",
       "    <tr>\n",
       "      <th>26</th>\n",
       "      <td>EMAd0.001_10</td>\n",
       "      <td>0.010573</td>\n",
       "    </tr>\n",
       "    <tr>\n",
       "      <th>15</th>\n",
       "      <td>EMAi0.01_6</td>\n",
       "      <td>0.008592</td>\n",
       "    </tr>\n",
       "    <tr>\n",
       "      <th>4</th>\n",
       "      <td>DR_2</td>\n",
       "      <td>0.007429</td>\n",
       "    </tr>\n",
       "    <tr>\n",
       "      <th>8</th>\n",
       "      <td>DR_3</td>\n",
       "      <td>0.007119</td>\n",
       "    </tr>\n",
       "    <tr>\n",
       "      <th>23</th>\n",
       "      <td>EMAd0.01_9</td>\n",
       "      <td>0.006148</td>\n",
       "    </tr>\n",
       "    <tr>\n",
       "      <th>13</th>\n",
       "      <td>EMAd0.01_5</td>\n",
       "      <td>0.006044</td>\n",
       "    </tr>\n",
       "    <tr>\n",
       "      <th>43</th>\n",
       "      <td>EMAd0.001_15</td>\n",
       "      <td>0.006016</td>\n",
       "    </tr>\n",
       "    <tr>\n",
       "      <th>6</th>\n",
       "      <td>EMAi0.01_2</td>\n",
       "      <td>0.005234</td>\n",
       "    </tr>\n",
       "    <tr>\n",
       "      <th>33</th>\n",
       "      <td>EMAd0.1_11</td>\n",
       "      <td>0.003171</td>\n",
       "    </tr>\n",
       "    <tr>\n",
       "      <th>16</th>\n",
       "      <td>EMAd0.01_6</td>\n",
       "      <td>0.00277</td>\n",
       "    </tr>\n",
       "    <tr>\n",
       "      <th>30</th>\n",
       "      <td>EMAi0.1_11</td>\n",
       "      <td>0.002658</td>\n",
       "    </tr>\n",
       "    <tr>\n",
       "      <th>32</th>\n",
       "      <td>EMAd0.01_11</td>\n",
       "      <td>0.001875</td>\n",
       "    </tr>\n",
       "    <tr>\n",
       "      <th>35</th>\n",
       "      <td>EMAi0.1_12</td>\n",
       "      <td>0.001826</td>\n",
       "    </tr>\n",
       "    <tr>\n",
       "      <th>27</th>\n",
       "      <td>EMAd0.01_10</td>\n",
       "      <td>0.001796</td>\n",
       "    </tr>\n",
       "    <tr>\n",
       "      <th>5</th>\n",
       "      <td>|DR|_2</td>\n",
       "      <td>0.001794</td>\n",
       "    </tr>\n",
       "    <tr>\n",
       "      <th>19</th>\n",
       "      <td>EMAd0.01_7</td>\n",
       "      <td>0.0016</td>\n",
       "    </tr>\n",
       "    <tr>\n",
       "      <th>41</th>\n",
       "      <td>EMAi0.01_14</td>\n",
       "      <td>0.001494</td>\n",
       "    </tr>\n",
       "    <tr>\n",
       "      <th>12</th>\n",
       "      <td>EMAi0.01_5</td>\n",
       "      <td>0.001393</td>\n",
       "    </tr>\n",
       "    <tr>\n",
       "      <th>1</th>\n",
       "      <td>EMAi0.001_1</td>\n",
       "      <td>0.001167</td>\n",
       "    </tr>\n",
       "    <tr>\n",
       "      <th>24</th>\n",
       "      <td>EMAd0.1_9</td>\n",
       "      <td>0.00106</td>\n",
       "    </tr>\n",
       "    <tr>\n",
       "      <th>44</th>\n",
       "      <td>DR_16</td>\n",
       "      <td>0.000967</td>\n",
       "    </tr>\n",
       "    <tr>\n",
       "      <th>45</th>\n",
       "      <td>EMAd0.1_16</td>\n",
       "      <td>0.000953</td>\n",
       "    </tr>\n",
       "    <tr>\n",
       "      <th>9</th>\n",
       "      <td>EMAi0.001_3</td>\n",
       "      <td>0.000923</td>\n",
       "    </tr>\n",
       "    <tr>\n",
       "      <th>40</th>\n",
       "      <td>|DR|_14</td>\n",
       "      <td>0.000923</td>\n",
       "    </tr>\n",
       "    <tr>\n",
       "      <th>22</th>\n",
       "      <td>EMAd0.001_9</td>\n",
       "      <td>0.000923</td>\n",
       "    </tr>\n",
       "    <tr>\n",
       "      <th>34</th>\n",
       "      <td>EMAi0.01_12</td>\n",
       "      <td>0.000909</td>\n",
       "    </tr>\n",
       "    <tr>\n",
       "      <th>31</th>\n",
       "      <td>EMAd0.001_11</td>\n",
       "      <td>0.0009</td>\n",
       "    </tr>\n",
       "    <tr>\n",
       "      <th>11</th>\n",
       "      <td>EMAd0.01_4</td>\n",
       "      <td>0.0008</td>\n",
       "    </tr>\n",
       "    <tr>\n",
       "      <th>2</th>\n",
       "      <td>EMAi0.01_1</td>\n",
       "      <td>0.00075</td>\n",
       "    </tr>\n",
       "    <tr>\n",
       "      <th>36</th>\n",
       "      <td>EMAd0.01_12</td>\n",
       "      <td>0.000667</td>\n",
       "    </tr>\n",
       "    <tr>\n",
       "      <th>18</th>\n",
       "      <td>EMAi0.01_7</td>\n",
       "      <td>0.000667</td>\n",
       "    </tr>\n",
       "    <tr>\n",
       "      <th>37</th>\n",
       "      <td>EMAd0.1_12</td>\n",
       "      <td>0.0005</td>\n",
       "    </tr>\n",
       "    <tr>\n",
       "      <th>42</th>\n",
       "      <td>|DR|_15</td>\n",
       "      <td>0.0005</td>\n",
       "    </tr>\n",
       "    <tr>\n",
       "      <th>20</th>\n",
       "      <td>EMAi0.1_8</td>\n",
       "      <td>0.000429</td>\n",
       "    </tr>\n",
       "    <tr>\n",
       "      <th>28</th>\n",
       "      <td>|DR|_11</td>\n",
       "      <td>0.000088</td>\n",
       "    </tr>\n",
       "  </tbody>\n",
       "</table>\n",
       "</div>"
      ],
      "text/plain": [
       "        Variable Importance\n",
       "3    EMAd0.001_1   0.259254\n",
       "7      EMAd0.1_2   0.225337\n",
       "17        |DR|_7   0.156137\n",
       "25       |DR|_10   0.090562\n",
       "39    EMAi0.1_13   0.045117\n",
       "21        |DR|_9   0.031711\n",
       "0           DR_1   0.031325\n",
       "10          DR_4   0.023777\n",
       "29   EMAi0.01_11   0.017797\n",
       "14        |DR|_6   0.016492\n",
       "38  EMAi0.001_13   0.011834\n",
       "26  EMAd0.001_10   0.010573\n",
       "15    EMAi0.01_6   0.008592\n",
       "4           DR_2   0.007429\n",
       "8           DR_3   0.007119\n",
       "23    EMAd0.01_9   0.006148\n",
       "13    EMAd0.01_5   0.006044\n",
       "43  EMAd0.001_15   0.006016\n",
       "6     EMAi0.01_2   0.005234\n",
       "33    EMAd0.1_11   0.003171\n",
       "16    EMAd0.01_6    0.00277\n",
       "30    EMAi0.1_11   0.002658\n",
       "32   EMAd0.01_11   0.001875\n",
       "35    EMAi0.1_12   0.001826\n",
       "27   EMAd0.01_10   0.001796\n",
       "5         |DR|_2   0.001794\n",
       "19    EMAd0.01_7     0.0016\n",
       "41   EMAi0.01_14   0.001494\n",
       "12    EMAi0.01_5   0.001393\n",
       "1    EMAi0.001_1   0.001167\n",
       "24     EMAd0.1_9    0.00106\n",
       "44         DR_16   0.000967\n",
       "45    EMAd0.1_16   0.000953\n",
       "9    EMAi0.001_3   0.000923\n",
       "40       |DR|_14   0.000923\n",
       "22   EMAd0.001_9   0.000923\n",
       "34   EMAi0.01_12   0.000909\n",
       "31  EMAd0.001_11     0.0009\n",
       "11    EMAd0.01_4     0.0008\n",
       "2     EMAi0.01_1    0.00075\n",
       "36   EMAd0.01_12   0.000667\n",
       "18    EMAi0.01_7   0.000667\n",
       "37    EMAd0.1_12     0.0005\n",
       "42       |DR|_15     0.0005\n",
       "20     EMAi0.1_8   0.000429\n",
       "28       |DR|_11   0.000088"
      ]
     },
     "execution_count": 118,
     "metadata": {},
     "output_type": "execute_result"
    }
   ],
   "source": [
    "fi = dt.feature_importances_\n",
    "dt_feats = X_train.columns[fi > 0].tolist()\n",
    "dt_feats = pd.DataFrame([dt_feats, fi[fi > 0]], index=['Variable', 'Importance'])\n",
    "dt_feats = dt_feats.T\n",
    "dt_feats.sort_values('Importance', ascending=False)"
   ]
  },
  {
   "cell_type": "code",
   "execution_count": 107,
   "metadata": {},
   "outputs": [
    {
     "name": "stdout",
     "output_type": "stream",
     "text": [
      "['DR_1', 'EMAd0.01_4', 'EMAi0.01_5', 'EMAd0.01_5', 'EMAd0.01_6']\n"
     ]
    }
   ],
   "source": [
    "common_feats = [f for f in X_corr_train.columns.tolist() if f in X_train.columns[fi>0].tolist()] #features that are common between the correlation dataset and the decision tree dataset\n",
    "print(common_feats)"
   ]
  },
  {
   "cell_type": "markdown",
   "metadata": {},
   "source": [
    "So this basic classification model has determined that only 38 features, out of the 128 we started with, have any importance whatsoever in predicting which chemical is being processed. Also out of those 38 important features, we only selected five of the features using our correlation method, four of which have a significance value less than 0.01. Let's now try some more advanced models using the features with a significance level greater than 0.01 from this basic decision tree."
   ]
  },
  {
   "cell_type": "markdown",
   "metadata": {},
   "source": [
    "## Grid Search & Cross Fold "
   ]
  },
  {
   "cell_type": "code",
   "execution_count": 127,
   "metadata": {},
   "outputs": [],
   "source": [
    "# Create a new data subset using the important features in the basic decision tree model\n",
    "tree_feats = dt_feats[dt_feats['Importance'] > 0.01].Variable.tolist()\n",
    "X_tree_train = X_train[tree_feats]\n",
    "X_tree_test = X_test[tree_feats]\n",
    "X_tree_f = X_test[tree_feats]"
   ]
  },
  {
   "cell_type": "code",
   "execution_count": 134,
   "metadata": {},
   "outputs": [
    {
     "name": "stdout",
     "output_type": "stream",
     "text": [
      "Fitting 5 folds for each of 7 candidates, totalling 35 fits\n"
     ]
    },
    {
     "name": "stderr",
     "output_type": "stream",
     "text": [
      "[Parallel(n_jobs=-1)]: Using backend LokyBackend with 8 concurrent workers.\n",
      "[Parallel(n_jobs=-1)]: Done  35 out of  35 | elapsed:    5.5s finished\n"
     ]
    },
    {
     "data": {
      "text/plain": [
       "GridSearchCV(cv=5,\n",
       "             estimator=Pipeline(steps=[('classifier',\n",
       "                                        DecisionTreeClassifier(random_state=1991))]),\n",
       "             n_jobs=-1,\n",
       "             param_grid=[{'classifier__max_depth': [2, 3, 4, 5, 6, 7, 8]}],\n",
       "             verbose=1)"
      ]
     },
     "execution_count": 134,
     "metadata": {},
     "output_type": "execute_result"
    }
   ],
   "source": [
    "param_grid = [{'classifier__max_depth': [2,3,4,5,6,7,8]}]\n",
    "steps = [('classifier', DecisionTreeClassifier(random_state=1991))]\n",
    "class_pipe = Pipeline(steps=steps)\n",
    "grid = GridSearchCV(class_pipe, param_grid, cv=5, verbose=1,n_jobs=-1)\n",
    "grid.fit(X_tree_train, y_code_train)"
   ]
  },
  {
   "cell_type": "code",
   "execution_count": 136,
   "metadata": {},
   "outputs": [
    {
     "name": "stdout",
     "output_type": "stream",
     "text": [
      "{'classifier__max_depth': 7}\n",
      "0.9706422018348624\n"
     ]
    }
   ],
   "source": [
    "print(grid.best_params_)\n",
    "print(grid.score(X_tree_test, y_code_test))"
   ]
  },
  {
   "cell_type": "markdown",
   "metadata": {},
   "source": [
    "# M"
   ]
  },
  {
   "cell_type": "markdown",
   "metadata": {},
   "source": []
  },
  {
   "cell_type": "code",
   "execution_count": null,
   "metadata": {},
   "outputs": [],
   "source": []
  }
 ],
 "metadata": {
  "kernelspec": {
   "display_name": "Python 3",
   "language": "python",
   "name": "python3"
  },
  "language_info": {
   "codemirror_mode": {
    "name": "ipython",
    "version": 3
   },
   "file_extension": ".py",
   "mimetype": "text/x-python",
   "name": "python",
   "nbconvert_exporter": "python",
   "pygments_lexer": "ipython3",
   "version": "3.8.5"
  }
 },
 "nbformat": 4,
 "nbformat_minor": 4
}

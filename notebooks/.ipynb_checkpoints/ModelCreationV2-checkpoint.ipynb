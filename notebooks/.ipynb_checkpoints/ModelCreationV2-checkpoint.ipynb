{
 "cells": [
  {
   "cell_type": "markdown",
   "metadata": {},
   "source": [
    "# Introduction"
   ]
  },
  {
   "cell_type": "markdown",
   "metadata": {},
   "source": [
    "The purpose of this analysis is to answer 3 questions:\n",
    "\n",
    "1. What is the tradeoff between model accuracy and the size of the training data set?\n",
    "2. What is the tradeoff between model accuracy and the number of sensors used?\n",
    "3. Does the accuracy of the sensors change over time?\n",
    "\n",
    "Now we could argue that there is an additional question in regards to the interaction effect between the training size and the number of sensors. We can explore that question as well if time allows. So, now comes the most important question\n",
    "\n",
    "__Why do we care about these questions?__  \n",
    "\n",
    "The reason we care about the first question is because experimentation can be laborious and time consuming. We want to be able to start accurately predicting the chemicals to save precious time that could be better spent on something besides testing.\n",
    "\n",
    "The reason we care about the second question is because the more sensors required in equipment using these sensors for processing the more expensive it will be.\n",
    "\n",
    "The reason we care about third questions is because like everything phyisical in life, the sensors have a quantifiable usable life. Eventually, they will break down and no longer function. However, before the sensor completely fails, it will experience a decrease in performance at some unknown rate, typically known as drift. We would like to determine if there is any indication of drift occuring."
   ]
  },
  {
   "cell_type": "markdown",
   "metadata": {},
   "source": [
    "# Import Packages & Raw Data"
   ]
  },
  {
   "cell_type": "markdown",
   "metadata": {},
   "source": [
    "## Import Packages"
   ]
  },
  {
   "cell_type": "code",
   "execution_count": 1,
   "metadata": {},
   "outputs": [],
   "source": [
    "import numpy as np\n",
    "import pandas as pd\n",
    "import os\n",
    "import matplotlib.pyplot as plt\n",
    "import seaborn as sns\n",
    "from sklearn.decomposition import PCA\n",
    "from sklearn.preprocessing import StandardScaler, MinMaxScaler, RobustScaler\n",
    "from sklearn.model_selection import train_test_split, cross_val_score, GridSearchCV, cross_validate\n",
    "from sklearn.linear_model import Lasso\n",
    "from sklearn.pipeline import Pipeline\n",
    "from sklearn.dummy import DummyClassifier\n",
    "from sklearn.metrics import classification_report, confusion_matrix, ConfusionMatrixDisplay\n",
    "from sklearn.tree import DecisionTreeClassifier, export_graphviz\n",
    "from sklearn.ensemble import RandomForestClassifier\n",
    "from sklearn.neighbors import KNeighborsClassifier\n",
    "from sklearn.svm import LinearSVC\n",
    "from sklearn.naive_bayes import GaussianNB\n",
    "import xgboost as xgb\n",
    "import graphviz"
   ]
  },
  {
   "cell_type": "markdown",
   "metadata": {},
   "source": [
    "## Import Raw Data"
   ]
  },
  {
   "cell_type": "code",
   "execution_count": 2,
   "metadata": {},
   "outputs": [],
   "source": [
    "#Get the relative local folder where the data is stored\n",
    "base_fpath = os.getcwd() #the file path to the working directory of the code\n",
    "d_path = base_fpath.replace('notebooks', 'data') #raw data file path\n",
    "\n",
    "s_data = pd.read_csv(d_path + '/gas_data_cleaned.csv') #sensor data"
   ]
  },
  {
   "cell_type": "markdown",
   "metadata": {},
   "source": [
    "# Split Data & Scale"
   ]
  },
  {
   "cell_type": "markdown",
   "metadata": {},
   "source": [
    "## Split the Data"
   ]
  },
  {
   "cell_type": "markdown",
   "metadata": {},
   "source": [
    "In order to answer questions 1 and 3 fron the introduction we need to split the data into three chucks: training, testing, and future. Training data will be used to determine how the data schould be scaled as well as fitting our model. We will eventually vary the amount of training data used to build our models with the test size variable in order to determine the tradeoff between number of experiments conducted and the accuracy of our predictions. Testing data will be used to score our models to help us determine if the model is good, while still being generalizable to new data. Future data will be the remaining data that is collected after our model is generated and will act as an additional means of determining goodness of fit and if any anomolies occur that could indicate system level changes."
   ]
  },
  {
   "cell_type": "code",
   "execution_count": 3,
   "metadata": {},
   "outputs": [],
   "source": [
    "#break the data into two subsets based on batch number\n",
    "ind_vars = s_data.drop(columns=['ChemicalCode', 'Concentration', 'BatchNumber']).columns #column names of the independent variables\n",
    "tt_data = s_data[s_data['BatchNumber'] <= 5] #train test data subset\n",
    "f_data = s_data[s_data['BatchNumber'] > 5] #future data subset\n",
    "\n",
    "#Break the data into independent and depedent variable groups\n",
    "X_tt = tt_data[ind_vars] #train test independent variable data subset\n",
    "y_tt_code = tt_data['ChemicalCode'] #train test 1st dependent variable\n",
    "y_tt_con = tt_data['Concentration'] #train test 2nd dependent variable\n",
    "X_f = f_data[ind_vars] #independent variable dataset\n",
    "y_f_code = f_data['ChemicalCode'] #1st dependent variable\n",
    "y_f_con = f_data['Concentration'] #2nd dependent variable\n",
    "\n",
    "#Split the data\n",
    "X_train, X_test, y_code_train, y_code_test = train_test_split(X_tt, y_tt_code, test_size=0.3, stratify=y_tt_code) #split the data into training and testing subsets"
   ]
  },
  {
   "cell_type": "markdown",
   "metadata": {},
   "source": [
    "## Scale the Data"
   ]
  },
  {
   "cell_type": "markdown",
   "metadata": {},
   "source": [
    "At this point we do not know the best method for scaling the data. We could use a normalizing method, standardize, or we could leave the data as is. The benefit of standardizing is that the data becomes unitless so we do not have to worry aobut units between independent variables. However, each of the independet variables should be using the same unit system even if they have different units. We also could leave the data as is, but this is typically considered bad practice since variables with larger values will automatically have a stronger influence on the model.\n",
    "\n",
    "In order to determine which method might be best, lets test all of these scaling methods to determine if the method we select has a significant impact on model performance."
   ]
  },
  {
   "cell_type": "markdown",
   "metadata": {},
   "source": [
    "### Standardized"
   ]
  },
  {
   "cell_type": "code",
   "execution_count": 4,
   "metadata": {},
   "outputs": [
    {
     "name": "stdout",
     "output_type": "stream",
     "text": [
      "              precision    recall  f1-score   support\n",
      "\n",
      "           1       0.97      0.97      0.97       213\n",
      "           2       0.99      0.98      0.99       302\n",
      "           3       0.94      0.98      0.96       129\n",
      "           4       0.95      0.98      0.96       136\n",
      "           5       1.00      0.98      0.99       286\n",
      "           6       1.00      0.92      0.96        24\n",
      "\n",
      "    accuracy                           0.98      1090\n",
      "   macro avg       0.97      0.97      0.97      1090\n",
      "weighted avg       0.98      0.98      0.98      1090\n",
      "\n"
     ]
    }
   ],
   "source": [
    "ss = StandardScaler().fit(X_train)\n",
    "X_train_ss = ss.transform(X_train)\n",
    "X_test_ss = ss.transform(X_test)\n",
    "\n",
    "dt_ss = DecisionTreeClassifier(random_state=12)\n",
    "dt_ss.fit(X_train_ss, y_code_train)\n",
    "print(classification_report(y_code_test, dt_ss.predict(X_test_ss)))"
   ]
  },
  {
   "cell_type": "markdown",
   "metadata": {},
   "source": [
    "### Min Max Scaled"
   ]
  },
  {
   "cell_type": "code",
   "execution_count": 5,
   "metadata": {},
   "outputs": [
    {
     "name": "stdout",
     "output_type": "stream",
     "text": [
      "              precision    recall  f1-score   support\n",
      "\n",
      "           1       0.97      0.97      0.97       213\n",
      "           2       0.99      0.98      0.99       302\n",
      "           3       0.94      0.98      0.96       129\n",
      "           4       0.95      0.98      0.96       136\n",
      "           5       1.00      0.98      0.99       286\n",
      "           6       1.00      0.92      0.96        24\n",
      "\n",
      "    accuracy                           0.98      1090\n",
      "   macro avg       0.97      0.97      0.97      1090\n",
      "weighted avg       0.98      0.98      0.98      1090\n",
      "\n"
     ]
    }
   ],
   "source": [
    "mm = MinMaxScaler().fit(X_train)\n",
    "X_train_mm = mm.transform(X_train)\n",
    "X_test_mm = mm.transform(X_test)\n",
    "\n",
    "dt_mm = DecisionTreeClassifier(random_state=12)\n",
    "dt_mm.fit(X_train_mm, y_code_train)\n",
    "print(classification_report(y_code_test, dt_mm.predict(X_test_mm)))"
   ]
  },
  {
   "cell_type": "markdown",
   "metadata": {},
   "source": [
    "### Robust Scaler"
   ]
  },
  {
   "cell_type": "code",
   "execution_count": 6,
   "metadata": {},
   "outputs": [
    {
     "name": "stdout",
     "output_type": "stream",
     "text": [
      "              precision    recall  f1-score   support\n",
      "\n",
      "           1       0.97      0.97      0.97       213\n",
      "           2       0.99      0.98      0.99       302\n",
      "           3       0.94      0.98      0.96       129\n",
      "           4       0.95      0.98      0.96       136\n",
      "           5       1.00      0.98      0.99       286\n",
      "           6       1.00      0.92      0.96        24\n",
      "\n",
      "    accuracy                           0.98      1090\n",
      "   macro avg       0.97      0.97      0.97      1090\n",
      "weighted avg       0.98      0.98      0.98      1090\n",
      "\n"
     ]
    }
   ],
   "source": [
    "rs = RobustScaler().fit(X_train)\n",
    "X_train_rs = rs.transform(X_train)\n",
    "X_test_rs = rs.transform(X_test)\n",
    "\n",
    "dt_rs = DecisionTreeClassifier(random_state=12)\n",
    "dt_rs.fit(X_train_rs, y_code_train)\n",
    "print(classification_report(y_code_test, dt_rs.predict(X_test_rs)))"
   ]
  },
  {
   "cell_type": "markdown",
   "metadata": {},
   "source": [
    "Overall the scaling methods don't seem to impact a basic decision trees ability to classify chemicals. When the random state of the decision tree is held constant, all scaling methods result in the same exact values for accuracy, precision and recall. Let's quickly check to see if these three methods impact the results we see compared to not scaling the data at all."
   ]
  },
  {
   "cell_type": "code",
   "execution_count": 7,
   "metadata": {},
   "outputs": [
    {
     "name": "stdout",
     "output_type": "stream",
     "text": [
      "              precision    recall  f1-score   support\n",
      "\n",
      "           1       0.97      0.97      0.97       213\n",
      "           2       0.99      0.98      0.99       302\n",
      "           3       0.94      0.98      0.96       129\n",
      "           4       0.95      0.98      0.96       136\n",
      "           5       1.00      0.98      0.99       286\n",
      "           6       1.00      0.92      0.96        24\n",
      "\n",
      "    accuracy                           0.98      1090\n",
      "   macro avg       0.97      0.97      0.97      1090\n",
      "weighted avg       0.98      0.98      0.98      1090\n",
      "\n"
     ]
    }
   ],
   "source": [
    "dt_raw = DecisionTreeClassifier(random_state=12)\n",
    "dt_raw.fit(X_train, y_code_train)\n",
    "print(classification_report(y_code_test, dt_raw.predict(X_test)))"
   ]
  },
  {
   "cell_type": "markdown",
   "metadata": {},
   "source": [
    "The results are exactly the same even with the unprocessed data. In this case lets choose the robust scaler since we know from previous notebooks that we have high variance in our data with potential for outliers, and the robust scaler is better at reducing the impact of those outliers."
   ]
  },
  {
   "cell_type": "markdown",
   "metadata": {},
   "source": [
    "# Chemical Classification"
   ]
  },
  {
   "cell_type": "markdown",
   "metadata": {},
   "source": [
    "## Baseline Models"
   ]
  },
  {
   "cell_type": "markdown",
   "metadata": {},
   "source": [
    "We want to first create some models using simple rules to determine if the more complex models we are going to create actually improve our ability to predict the chemical sprecies. If our models do not improve our prediction ability significantly then we want to default to the simpler model, since simple models are easier to comprehend. Let's make two baseline models and pick whichever rule results in the best performance."
   ]
  },
  {
   "cell_type": "code",
   "execution_count": 8,
   "metadata": {},
   "outputs": [
    {
     "name": "stdout",
     "output_type": "stream",
     "text": [
      "              precision    recall  f1-score   support\n",
      "\n",
      "           1       0.16      0.13      0.14       213\n",
      "           2       0.23      0.16      0.19       302\n",
      "           3       0.09      0.12      0.10       129\n",
      "           4       0.15      0.20      0.17       136\n",
      "           5       0.27      0.17      0.21       286\n",
      "           6       0.01      0.08      0.02        24\n",
      "\n",
      "    accuracy                           0.15      1090\n",
      "   macro avg       0.15      0.14      0.14      1090\n",
      "weighted avg       0.19      0.15      0.17      1090\n",
      "\n"
     ]
    },
    {
     "data": {
      "image/png": "[encoded data removed]",
      "text/plain": [
       "<Figure size 432x288 with 2 Axes>"
      ]
     },
     "metadata": {
      "needs_background": "light"
     },
     "output_type": "display_data"
    }
   ],
   "source": [
    "# Randomly Choose a Chemical Species\n",
    "dc_rand = DummyClassifier(strategy = 'uniform', random_state=1991) #create a model that randomly chooses chemicals\n",
    "dc_rand.fit(X_train_rs, y_code_train)\n",
    "print(classification_report(y_code_test, dc_rand.predict(X_test_rs)))\n",
    "\n",
    "ConfusionMatrixDisplay(confusion_matrix(y_code_test, dc_rand.predict(X_test_rs)), display_labels=dc_rand.classes_).plot() #display the confusion matrix\n",
    "plt.show()"
   ]
  },
  {
   "cell_type": "markdown",
   "metadata": {},
   "source": [
    "Using a random method we would expect the accuracy to be approximately 1 in 6 chance, 16.7%, of guessing the correct number. In this case we had a model accuracy of 18%, so slightly above theoretical. We could also create a model based on the most frequent chemical or account for the distribution of the chemicals tested. Let's use the most frequent method since the number of each chemical is not uniformly distributed."
   ]
  },
  {
   "cell_type": "code",
   "execution_count": 9,
   "metadata": {},
   "outputs": [
    {
     "name": "stdout",
     "output_type": "stream",
     "text": [
      "              precision    recall  f1-score   support\n",
      "\n",
      "           1       0.00      0.00      0.00       213\n",
      "           2       0.28      1.00      0.43       302\n",
      "           3       0.00      0.00      0.00       129\n",
      "           4       0.00      0.00      0.00       136\n",
      "           5       0.00      0.00      0.00       286\n",
      "           6       0.00      0.00      0.00        24\n",
      "\n",
      "    accuracy                           0.28      1090\n",
      "   macro avg       0.05      0.17      0.07      1090\n",
      "weighted avg       0.08      0.28      0.12      1090\n",
      "\n"
     ]
    },
    {
     "name": "stderr",
     "output_type": "stream",
     "text": [
      "C:\\Users\\sscov\\anaconda3\\lib\\site-packages\\sklearn\\metrics\\_classification.py:1221: UndefinedMetricWarning: Precision and F-score are ill-defined and being set to 0.0 in labels with no predicted samples. Use `zero_division` parameter to control this behavior.\n",
      "  _warn_prf(average, modifier, msg_start, len(result))\n"
     ]
    }
   ],
   "source": [
    "# Always Choose the Most Frequent Chemical Species\n",
    "dc_mf = DummyClassifier(strategy = 'most_frequent', random_state=1991) #create a model that chooses the most frequent chemical code in the training set\n",
    "dc_mf.fit(X_train_rs, y_code_train)\n",
    "print(classification_report(y_code_test, dc_mf.predict(X_test_rs)))"
   ]
  },
  {
   "cell_type": "markdown",
   "metadata": {},
   "source": [
    "In this case our accuracy is 28%, which is the heighest we've seen so far and we can use this model for our baseline performance."
   ]
  },
  {
   "cell_type": "markdown",
   "metadata": {},
   "source": [
    "## Advanced Model Creation"
   ]
  },
  {
   "cell_type": "markdown",
   "metadata": {},
   "source": [
    "Since we will eventually want to vary our test size and reduce the number of features we use, let's create a function the mimics what we already did in a more streamlined fashion so we can create a for loop capable of providing us with answers to questions we had in the introduction."
   ]
  },
  {
   "cell_type": "markdown",
   "metadata": {},
   "source": [
    "### Model Prep Pipeline"
   ]
  },
  {
   "cell_type": "code",
   "execution_count": 10,
   "metadata": {},
   "outputs": [],
   "source": [
    "def prep_data(data, targ_var, feat_list, test_size=0.3):\n",
    "    \"\"\"\n",
    "    Inputs:\n",
    "        data: full dataset. type = DataFrame\n",
    "        y: dependent variable. type = String\n",
    "        feat_list: subselection of independentt variables to use. type = list\n",
    "        test_size: ratio of data from dataset to use for model validation. type = float\n",
    "    Outputs:\n",
    "        X_train: \n",
    "        X_test:\n",
    "        y_train:\n",
    "        y_test:\n",
    "        X_f:\n",
    "        y_f\n",
    "    \"\"\"\n",
    "    data_tt = data[data['BatchNumber'] <= 5] #train test dataset\n",
    "    y_tt = data_tt[targ_var]\n",
    "    X_feats = data_tt[feat_list] #use the subselection of features\n",
    "    X_train, X_test, y_train, y_test = train_test_split(X_feats, y_tt, test_size=test_size, stratify=y_tt) #split the data into a training and test set\n",
    "    \n",
    "    #Fture data to determine if drift occurs\n",
    "    data_f = data[data['BatchNumber'] > 5]\n",
    "    X_f = data_f[feat_list]\n",
    "    y_f = data_f[targ_var]\n",
    "    \n",
    "    # scale the data\n",
    "    rs = RobustScaler()\n",
    "    rs.fit(X_train)\n",
    "    X_train = pd.DataFrame(rs.transform(X_train), columns=feat_list)\n",
    "    X_test = pd.DataFrame(rs.transform(X_test), columns=feat_list)\n",
    "    X_f = pd.DataFrame(rs.transform(X_f), columns=feat_list)\n",
    "    \n",
    "    return X_train, X_test, y_train, y_test, X_f, y_f"
   ]
  },
  {
   "cell_type": "markdown",
   "metadata": {},
   "source": [
    "### Feature List Creation"
   ]
  },
  {
   "cell_type": "markdown",
   "metadata": {},
   "source": [
    "As you may we have a vary wide dataset with 128 independent variables. We will want to try to reduce that number for simplicity sake, and to answer question two from the introduction. Since there are 16 sensors and we do not want to test every single combination of each (there are 120 two sensor combinations), we will use a couple of combinations based on the sensor used from the features that were the most important when creating a basic decision tree. Any sensor that had a feature with importance >0.01 will be considered for the combinations."
   ]
  },
  {
   "cell_type": "code",
   "execution_count": 11,
   "metadata": {},
   "outputs": [
    {
     "data": {
      "text/html": [
       "<div>\n",
       "<style scoped>\n",
       "    .dataframe tbody tr th:only-of-type {\n",
       "        vertical-align: middle;\n",
       "    }\n",
       "\n",
       "    .dataframe tbody tr th {\n",
       "        vertical-align: top;\n",
       "    }\n",
       "\n",
       "    .dataframe thead th {\n",
       "        text-align: right;\n",
       "    }\n",
       "</style>\n",
       "<table border=\"1\" class=\"dataframe\">\n",
       "  <thead>\n",
       "    <tr style=\"text-align: right;\">\n",
       "      <th></th>\n",
       "      <th>Variable</th>\n",
       "      <th>Importance</th>\n",
       "    </tr>\n",
       "  </thead>\n",
       "  <tbody>\n",
       "    <tr>\n",
       "      <th>2</th>\n",
       "      <td>EMAd0.001_1</td>\n",
       "      <td>0.258417</td>\n",
       "    </tr>\n",
       "    <tr>\n",
       "      <th>7</th>\n",
       "      <td>EMAd0.1_2</td>\n",
       "      <td>0.200014</td>\n",
       "    </tr>\n",
       "    <tr>\n",
       "      <th>21</th>\n",
       "      <td>|DR|_7</td>\n",
       "      <td>0.158774</td>\n",
       "    </tr>\n",
       "    <tr>\n",
       "      <th>30</th>\n",
       "      <td>|DR|_10</td>\n",
       "      <td>0.105489</td>\n",
       "    </tr>\n",
       "    <tr>\n",
       "      <th>36</th>\n",
       "      <td>EMAi0.1_13</td>\n",
       "      <td>0.043313</td>\n",
       "    </tr>\n",
       "    <tr>\n",
       "      <th>12</th>\n",
       "      <td>DR_4</td>\n",
       "      <td>0.036732</td>\n",
       "    </tr>\n",
       "    <tr>\n",
       "      <th>26</th>\n",
       "      <td>|DR|_9</td>\n",
       "      <td>0.023094</td>\n",
       "    </tr>\n",
       "    <tr>\n",
       "      <th>20</th>\n",
       "      <td>EMAd0.1_6</td>\n",
       "      <td>0.0222</td>\n",
       "    </tr>\n",
       "    <tr>\n",
       "      <th>10</th>\n",
       "      <td>EMAi0.01_3</td>\n",
       "      <td>0.019767</td>\n",
       "    </tr>\n",
       "    <tr>\n",
       "      <th>17</th>\n",
       "      <td>EMAi0.1_5</td>\n",
       "      <td>0.016847</td>\n",
       "    </tr>\n",
       "    <tr>\n",
       "      <th>19</th>\n",
       "      <td>|DR|_6</td>\n",
       "      <td>0.016568</td>\n",
       "    </tr>\n",
       "    <tr>\n",
       "      <th>5</th>\n",
       "      <td>DR_2</td>\n",
       "      <td>0.011087</td>\n",
       "    </tr>\n",
       "  </tbody>\n",
       "</table>\n",
       "</div>"
      ],
      "text/plain": [
       "       Variable Importance\n",
       "2   EMAd0.001_1   0.258417\n",
       "7     EMAd0.1_2   0.200014\n",
       "21       |DR|_7   0.158774\n",
       "30      |DR|_10   0.105489\n",
       "36   EMAi0.1_13   0.043313\n",
       "12         DR_4   0.036732\n",
       "26       |DR|_9   0.023094\n",
       "20    EMAd0.1_6     0.0222\n",
       "10   EMAi0.01_3   0.019767\n",
       "17    EMAi0.1_5   0.016847\n",
       "19       |DR|_6   0.016568\n",
       "5          DR_2   0.011087"
      ]
     },
     "execution_count": 11,
     "metadata": {},
     "output_type": "execute_result"
    }
   ],
   "source": [
    "#Determine which features were important for the quick decision tree classifier we made that had high accuracy\n",
    "fi = dt_rs.feature_importances_\n",
    "dt_feats = X_train.columns[fi > 0].tolist()\n",
    "dt_feats = pd.DataFrame([dt_feats, fi[fi > 0]], index=['Variable', 'Importance'])\n",
    "dt_feats = dt_feats.T\n",
    "dt_feats.sort_values('Importance', ascending=False, inplace=True)\n",
    "dt_feats[dt_feats['Importance'] >= 0.01]"
   ]
  },
  {
   "cell_type": "markdown",
   "metadata": {},
   "source": [
    "Sensor 1, 2, 4, 5, 6, 7, 9, 10, 11 were all used in the model. However, we do not know if the important features changes every time we run the model so lets run a quick experiment. We will create a model 100 times and see how often each feature comes up as important"
   ]
  },
  {
   "cell_type": "code",
   "execution_count": 12,
   "metadata": {},
   "outputs": [
    {
     "data": {
      "text/plain": [
       "EMAd0.001_1    100\n",
       "DR_2           100\n",
       "EMAd0.1_2      100\n",
       "EMAi0.01_3     100\n",
       "DR_4           100\n",
       "EMAi0.1_5      100\n",
       "|DR|_6         100\n",
       "EMAd0.1_6      100\n",
       "|DR|_7         100\n",
       "|DR|_9         100\n",
       "|DR|_10        100\n",
       "EMAi0.1_13     100\n",
       "dtype: int64"
      ]
     },
     "execution_count": 12,
     "metadata": {},
     "output_type": "execute_result"
    }
   ],
   "source": [
    "feats_imp_100 = []\n",
    "\n",
    "for i in range(100):\n",
    "    dt_rs_exp = DecisionTreeClassifier()\n",
    "    dt_rs_exp.fit(X_train_rs, y_code_train)\n",
    "    \n",
    "    fi = dt_rs.feature_importances_\n",
    "    dt_feats = X_train.columns[fi > 0].tolist()\n",
    "    dt_feats = pd.DataFrame([dt_feats, fi[fi > 0]], index=['Variable', 'Importance'])\n",
    "    dt_feats = dt_feats.T\n",
    "    dt_feats.sort_values('Importance', ascending=False)\n",
    "    imp_feats = dt_feats.Variable[dt_feats['Importance'] >= 0.01].tolist()\n",
    "    feats_imp_100 = feats_imp_100 + imp_feats\n",
    "    \n",
    "feats_imp_100 = pd.Series(feats_imp_100)\n",
    "feats_imp_100.value_counts(ascending=False)"
   ]
  },
  {
   "cell_type": "markdown",
   "metadata": {},
   "source": [
    "looks like those faetures were deemed important 100/100 times so lets only make combinations of sensors 1, 2, 4, 5, 6, 7, 9, 10, and 11."
   ]
  },
  {
   "cell_type": "code",
   "execution_count": 13,
   "metadata": {},
   "outputs": [],
   "source": [
    "ind_vars = ind_vars.tolist()\n",
    "s1_feats = ind_vars[0:8]\n",
    "s2_feats = ind_vars[8:16]\n",
    "s4_feats = ind_vars[24:32]\n",
    "s5_feats = ind_vars[32:40]\n",
    "s6_feats = ind_vars[40:48]\n",
    "s7_feats = ind_vars[48:56]\n",
    "s9_feats = ind_vars[64:72]\n",
    "s10_feats = ind_vars[72:80]\n",
    "s11_feats = ind_vars[80:88]\n",
    "\n",
    "combo_1 = s1_feats + s2_feats\n",
    "combo_2 = s1_feats + s2_feats + s7_feats\n",
    "combo_3 = s1_feats + s2_feats + s7_feats + s10_feats\n",
    "combo_4 = s1_feats + s2_feats + s7_feats + s10_feats + s5_feats\n",
    "combo_5 = s1_feats + s2_feats + s7_feats + s10_feats + s5_feats + s9_feats\n",
    "combo_6 = s1_feats + s2_feats + s7_feats + s10_feats + s5_feats + s9_feats + s4_feats\n",
    "combo_7 = s1_feats + s2_feats + s7_feats + s10_feats + s5_feats + s9_feats + s4_feats + s11_feats"
   ]
  },
  {
   "cell_type": "markdown",
   "metadata": {},
   "source": [
    "lets now create a list of feature lists we want to use for our models. One other thing we want to try is doing PCA analysis for feature reduction."
   ]
  },
  {
   "cell_type": "code",
   "execution_count": 14,
   "metadata": {},
   "outputs": [],
   "source": [
    "full_set = ind_vars #use all 128 independent features\n",
    "corr_set = pd.read_csv(d_path + '\\CorrelationMethod/train.csv').columns.tolist() #use the features that have no correlation to each other from last notebook\n",
    "\n",
    "feats_lists = [full_set, corr_set, s1_feats, combo_1, combo_2, combo_3, combo_4, combo_5 ,combo_6 ,combo_7, ['PCA']]\n",
    "feats_names = ['full_set', 'corr_set', 's1_feats', 'combo_1', 'combo_2', 'combo_3', 'combo_4', 'combo_5', 'combo_6', 'combo_7', 'PCA']"
   ]
  },
  {
   "cell_type": "markdown",
   "metadata": {},
   "source": [
    "### List of Models"
   ]
  },
  {
   "cell_type": "markdown",
   "metadata": {},
   "source": [
    "It is never straightforward which type of model will perform best, so we should try multiple models. The models we will explore are: DecisionTree, RandomForest, KNN, LinearSVC, Gaussian Naive Bayes. Included decision tree and random forest classifier in case random forest does not provide a significant increase in model accuracy and we want to default to the easier to explain model. Logistic regression was not included in this set because our input data has some negative values and all values must be positive for logistic regression.\n",
    "\n",
    "For now we will use the default hyperparameters and split the classifiers into two groups, the performers and non-performers."
   ]
  },
  {
   "cell_type": "code",
   "execution_count": 15,
   "metadata": {},
   "outputs": [],
   "source": [
    "#Create a list of the models we will experiment with\n",
    "model_list = [DecisionTreeClassifier(), RandomForestClassifier(), KNeighborsClassifier(), LinearSVC(), GaussianNB()]"
   ]
  },
  {
   "cell_type": "markdown",
   "metadata": {},
   "source": [
    "### Model Runs First Pass"
   ]
  },
  {
   "cell_type": "code",
   "execution_count": 16,
   "metadata": {},
   "outputs": [
    {
     "name": "stderr",
     "output_type": "stream",
     "text": [
      "C:\\Users\\sscov\\anaconda3\\lib\\site-packages\\sklearn\\svm\\_base.py:976: ConvergenceWarning: Liblinear failed to converge, increase the number of iterations.\n",
      "  warnings.warn(\"Liblinear failed to converge, increase \"\n",
      "C:\\Users\\sscov\\anaconda3\\lib\\site-packages\\sklearn\\svm\\_base.py:976: ConvergenceWarning: Liblinear failed to converge, increase the number of iterations.\n",
      "  warnings.warn(\"Liblinear failed to converge, increase \"\n",
      "C:\\Users\\sscov\\anaconda3\\lib\\site-packages\\sklearn\\svm\\_base.py:976: ConvergenceWarning: Liblinear failed to converge, increase the number of iterations.\n",
      "  warnings.warn(\"Liblinear failed to converge, increase \"\n",
      "C:\\Users\\sscov\\anaconda3\\lib\\site-packages\\sklearn\\svm\\_base.py:976: ConvergenceWarning: Liblinear failed to converge, increase the number of iterations.\n",
      "  warnings.warn(\"Liblinear failed to converge, increase \"\n"
     ]
    },
    {
     "name": "stdout",
     "output_type": "stream",
     "text": [
      "[DecisionTreeClassifier()] fit_time: 0.11972060203552246 score_time: 0.00019993782043457032 test_score: 0.9685426109555559\n",
      "\n",
      "[RandomForestClassifier()] fit_time: 0.6648116111755371 score_time: 0.010274171829223633 test_score: 0.9885965997865199\n",
      "\n",
      "[KNeighborsClassifier()] fit_time: 0.034375238418579104 score_time: 0.04704432487487793 test_score: 0.9775845799235803\n",
      "\n",
      "[LinearSVC()] fit_time: 0.26613306999206543 score_time: 0.0 test_score: 0.9846665532230869\n",
      "\n",
      "[GaussianNB()] fit_time: 0.006238460540771484 score_time: 0.0 test_score: 0.7911854338443451\n",
      "\n"
     ]
    },
    {
     "name": "stderr",
     "output_type": "stream",
     "text": [
      "C:\\Users\\sscov\\anaconda3\\lib\\site-packages\\sklearn\\svm\\_base.py:976: ConvergenceWarning: Liblinear failed to converge, increase the number of iterations.\n",
      "  warnings.warn(\"Liblinear failed to converge, increase \"\n"
     ]
    }
   ],
   "source": [
    "cv_scores1 = []\n",
    "\n",
    "for m in model_list:\n",
    "    cv_scores1.append({m: cross_validate(m, X_train_rs, y_code_train)})\n",
    "    \n",
    "for m in cv_scores1:\n",
    "    name = list(m.keys())\n",
    "    scores = m[name[0]]\n",
    "    print(name, end = '')\n",
    "    for s, vals in scores.items():\n",
    "        print(' ' + s + ': ' + str(np.mean(vals)), end = '')\n",
    "    print('\\n')"
   ]
  },
  {
   "cell_type": "markdown",
   "metadata": {},
   "source": [
    "So the Gaussian Naive bayes runs the quickest, but the accuracy is only ~80%. Overall, that is a pretty good score, especially compared to our baseline score of 28%, but it is still much worse than the other models. In this case we do not care too much about calculation speed so we can eliminate it as a potential model type. Otherwise, all other models seemed to perform similarily, with the fit time being the greatest for the random forest method, and basic decision tree classifier having just a slightly worse performance than the others. Another thing to note is that the SVM model failed to fully converge, yet it still seemed to produce good performance. To simplify let's only consider the random forest, KNN and Linear SVC models and we can increase the number of iterations for the next round."
   ]
  },
  {
   "cell_type": "markdown",
   "metadata": {},
   "source": [
    "### Model Runs Final"
   ]
  },
  {
   "cell_type": "markdown",
   "metadata": {},
   "source": [
    "Now that we reduced the number of models lets answer questions one and two from the introduction by structuring our own gridsearch with our feature lists and test size list."
   ]
  },
  {
   "cell_type": "code",
   "execution_count": 17,
   "metadata": {},
   "outputs": [],
   "source": [
    "#Create a list of test sizes to use\n",
    "test_sizes = [0.2, 0.25, 0.3, 0.35, 0.4, 0.5]\n",
    "\n",
    "#Create a list of the models we will experiment with\n",
    "model_list = [RandomForestClassifier(), KNeighborsClassifier(), LinearSVC(max_iter=10000)]\n",
    "\n",
    "#ignore convergence warnings\n",
    "import warnings\n",
    "warnings.filterwarnings(\"ignore\")\n",
    "\n",
    "cv_scores2 = []\n",
    "for f in feats_lists:\n",
    "    for ts in test_sizes:\n",
    "        if 'PCA' in f:\n",
    "            X_train, X_test, y_train, y_test, X_f, y_f = prep_data(s_data, 'ChemicalCode', full_set, ts)\n",
    "            pca = PCA().fit(X_train)\n",
    "            pca_var = pd.DataFrame(pca.explained_variance_ratio_)\n",
    "            n_comps = len(pca_var[pca_var[0] >= 0.01])\n",
    "            columns = ['comp'+str(i) for i in range(n_comps)]\n",
    "            X_train = pd.DataFrame(PCA(n_components = n_comps).fit_transform(X_train), columns=columns)\n",
    "        else:\n",
    "            X_train, X_test, y_train, y_test, X_f, y_f = prep_data(s_data, 'ChemicalCode', f, ts)\n",
    "            \n",
    "        for m in model_list:\n",
    "            scores = cross_validate(m, X_train, y_train)\n",
    "            avg_scores = [np.mean(scores[k]) for k in scores.keys()] \n",
    "            cv_scores2.append({'model': m, 'feats': feats_names[feats_lists.index(f)], 'test_size': ts, 'avg_fit_time': avg_scores[0], 'avg_accuracy': avg_scores[2]})\n",
    "        "
   ]
  },
  {
   "cell_type": "code",
   "execution_count": 18,
   "metadata": {},
   "outputs": [
    {
     "name": "stdout",
     "output_type": "stream",
     "text": [
      "RandomForestClassifier() 0.9476674454534851\n",
      "KNeighborsClassifier() 0.9382300940671985\n",
      "LinearSVC(max_iter=10000) 0.9038899019994177\n"
     ]
    }
   ],
   "source": [
    "perf_metrics = pd.DataFrame(cv_scores2) #convert our array of model metrics to a dataframe\n",
    "for m in perf_metrics['model'].unique():\n",
    "    model_metrics = perf_metrics[perf_metrics['model'] == m]\n",
    "    print(m, np.mean(model_metrics['avg_accuracy']))"
   ]
  },
  {
   "cell_type": "markdown",
   "metadata": {},
   "source": [
    "Among all the various combinations of features and test sizes, the random forest calssifier outperformed teh rest. Now witht he case of the LinearSVC, perhaps it did not perform as well because it never converged. For now lets only look at the Random Forest classifier results."
   ]
  },
  {
   "cell_type": "markdown",
   "metadata": {},
   "source": [
    "### Plot the Results"
   ]
  },
  {
   "cell_type": "code",
   "execution_count": 19,
   "metadata": {},
   "outputs": [
    {
     "data": {
      "text/plain": [
       "<AxesSubplot:xlabel='test_size'>"
      ]
     },
     "execution_count": 19,
     "metadata": {},
     "output_type": "execute_result"
    },
    {
     "data": {
      "image/png": "[encoded data removed]",
      "text/plain": [
       "<Figure size 432x288 with 1 Axes>"
      ]
     },
     "metadata": {
      "needs_background": "light"
     },
     "output_type": "display_data"
    }
   ],
   "source": [
    "rf_metrics = perf_metrics[perf_metrics['model'] == perf_metrics.iloc[0,0]].copy()\n",
    "rf_metrics.drop(columns='model', inplace=True)\n",
    "test_size = rf_metrics.groupby('test_size')['avg_accuracy'].mean()\n",
    "test_size = pd.DataFrame(test_size)\n",
    "\n",
    "test_size.plot()"
   ]
  },
  {
   "cell_type": "markdown",
   "metadata": {},
   "source": [
    "oddly enough we don't see any trend in the accuracy vs. the test size. this could be due to confounding with the used features as well. Let's now look at how used features impact accuracy."
   ]
  },
  {
   "cell_type": "code",
   "execution_count": 20,
   "metadata": {},
   "outputs": [
    {
     "data": {
      "text/html": [
       "<div>\n",
       "<style scoped>\n",
       "    .dataframe tbody tr th:only-of-type {\n",
       "        vertical-align: middle;\n",
       "    }\n",
       "\n",
       "    .dataframe tbody tr th {\n",
       "        vertical-align: top;\n",
       "    }\n",
       "\n",
       "    .dataframe thead th {\n",
       "        text-align: right;\n",
       "    }\n",
       "</style>\n",
       "<table border=\"1\" class=\"dataframe\">\n",
       "  <thead>\n",
       "    <tr style=\"text-align: right;\">\n",
       "      <th></th>\n",
       "      <th>avg_accuracy</th>\n",
       "    </tr>\n",
       "    <tr>\n",
       "      <th>feats</th>\n",
       "      <th></th>\n",
       "    </tr>\n",
       "  </thead>\n",
       "  <tbody>\n",
       "    <tr>\n",
       "      <th>combo_7</th>\n",
       "      <td>0.988066</td>\n",
       "    </tr>\n",
       "    <tr>\n",
       "      <th>combo_4</th>\n",
       "      <td>0.988019</td>\n",
       "    </tr>\n",
       "    <tr>\n",
       "      <th>combo_6</th>\n",
       "      <td>0.987874</td>\n",
       "    </tr>\n",
       "    <tr>\n",
       "      <th>full_set</th>\n",
       "      <td>0.987365</td>\n",
       "    </tr>\n",
       "    <tr>\n",
       "      <th>combo_5</th>\n",
       "      <td>0.987146</td>\n",
       "    </tr>\n",
       "    <tr>\n",
       "      <th>combo_3</th>\n",
       "      <td>0.986954</td>\n",
       "    </tr>\n",
       "    <tr>\n",
       "      <th>combo_2</th>\n",
       "      <td>0.986420</td>\n",
       "    </tr>\n",
       "    <tr>\n",
       "      <th>corr_set</th>\n",
       "      <td>0.985996</td>\n",
       "    </tr>\n",
       "    <tr>\n",
       "      <th>combo_1</th>\n",
       "      <td>0.969247</td>\n",
       "    </tr>\n",
       "    <tr>\n",
       "      <th>s1_feats</th>\n",
       "      <td>0.960992</td>\n",
       "    </tr>\n",
       "    <tr>\n",
       "      <th>PCA</th>\n",
       "      <td>0.596264</td>\n",
       "    </tr>\n",
       "  </tbody>\n",
       "</table>\n",
       "</div>"
      ],
      "text/plain": [
       "          avg_accuracy\n",
       "feats                 \n",
       "combo_7       0.988066\n",
       "combo_4       0.988019\n",
       "combo_6       0.987874\n",
       "full_set      0.987365\n",
       "combo_5       0.987146\n",
       "combo_3       0.986954\n",
       "combo_2       0.986420\n",
       "corr_set      0.985996\n",
       "combo_1       0.969247\n",
       "s1_feats      0.960992\n",
       "PCA           0.596264"
      ]
     },
     "execution_count": 20,
     "metadata": {},
     "output_type": "execute_result"
    }
   ],
   "source": [
    "feat_metrics = rf_metrics.groupby('feats')['avg_accuracy'].mean()\n",
    "feat_metrics = pd.DataFrame(feat_metrics)\n",
    "feat_metrics.sort_values('avg_accuracy',ascending=False)"
   ]
  },
  {
   "cell_type": "markdown",
   "metadata": {},
   "source": [
    "For the most part the features set we use doesn't seem to impact the accuracy that greatly. Here we should note that once we start using three sensors (represented by combo_2), we no longer gain siginificant additional accuracy. Even so, only using one sensor still results in an accuracy of 96%. Let's now see if we can determine if any of the sensors experience drift and look once more at the affect of test size on the accuracy using our random forest classifier."
   ]
  },
  {
   "cell_type": "markdown",
   "metadata": {},
   "source": [
    "### Drift Detection"
   ]
  },
  {
   "cell_type": "code",
   "execution_count": 21,
   "metadata": {},
   "outputs": [],
   "source": [
    "rf_models = []\n",
    "test_scores = []\n",
    "\n",
    "test_sizes = np.linspace(0.2, 0.99, 30)\n",
    "\n",
    "for ts in test_sizes:\n",
    "    X_train, X_test, y_train, y_test, X_f, y_f = prep_data(s_data, 'ChemicalCode', full_set, ts)\n",
    "    rf = RandomForestClassifier(random_state=1991)\n",
    "    rf.fit(X_train, y_train)\n",
    "    test_scores.append({'test_size': ts, 'score':rf.score(X_test, y_test)})\n",
    "    \n",
    "test_scores = pd.DataFrame(test_scores)\n",
    "test_scores.set_index('test_size', inplace=True)\n",
    "test_scores.sort_index(inplace=True)"
   ]
  },
  {
   "cell_type": "code",
   "execution_count": 22,
   "metadata": {},
   "outputs": [
    {
     "data": {
      "image/png": "[encoded data removed]",
      "text/plain": [
       "<Figure size 432x288 with 1 Axes>"
      ]
     },
     "metadata": {
      "needs_background": "light"
     },
     "output_type": "display_data"
    }
   ],
   "source": [
    "test_scores.plot()\n",
    "plt.grid()\n",
    "plt.ylabel('Accuracy')\n",
    "\n",
    "plt.show()"
   ]
  },
  {
   "cell_type": "markdown",
   "metadata": {},
   "source": [
    "So now we have a much better idea of the tradeoff between model accuracy and the number of experiments we have to run. At a test size of approximately 0.8 we start to see a steep decline in the accuracy, which equates to 727 experiments before we can start creating a model that is close to as acurate we can get. Now lets see what the long term performance of the model is like using a test size of 0.7. We will not be able to calculate a numerical drift value for this classification model, but what we can look at is the error rate and whether it changes over time or not."
   ]
  },
  {
   "cell_type": "code",
   "execution_count": 23,
   "metadata": {},
   "outputs": [
    {
     "name": "stdout",
     "output_type": "stream",
     "text": [
      "test data score 0.9870283018867925, future data score 0.5299211832246765\n"
     ]
    },
    {
     "data": {
      "image/png": "[encoded data removed]",
      "text/plain": [
       "<Figure size 864x576 with 1 Axes>"
      ]
     },
     "metadata": {
      "needs_background": "light"
     },
     "output_type": "display_data"
    }
   ],
   "source": [
    "X_train, X_test, y_train, y_test, X_f, y_f = prep_data(s_data, 'ChemicalCode', full_set, 0.7)\n",
    "rf = RandomForestClassifier().fit(X_train, y_train)\n",
    "print('test data score {}, future data score {}'.format(rf.score(X_test, y_test),rf.score(X_f, y_f)))\n",
    "\n",
    "y_f_pred = rf.predict(X_f)\n",
    "error_rate = pd.concat([y_f.reset_index(), pd.DataFrame(y_f_pred, columns=['ChemicalPrediction'])], axis=1)\n",
    "error_rate['error'] = error_rate['ChemicalCode'] == error_rate['ChemicalPrediction']\n",
    "\n",
    "fig = plt.figure(figsize=(12,8))\n",
    "plt.plot(error_rate['error'].rolling(100).mean())\n",
    "plt.xlabel('Experimental Run')\n",
    "plt.ylabel('Rolling Window Accuracy')\n",
    "plt.title('Rolling Window Average Accuracy of Chemcial Predictions')\n",
    "\n",
    "plt.show()"
   ]
  },
  {
   "cell_type": "code",
   "execution_count": null,
   "metadata": {},
   "outputs": [],
   "source": []
  },
  {
   "cell_type": "markdown",
   "metadata": {},
   "source": [
    "We see now that there is a stark contrast between the our test accuracy (.978) vs. our ongoing accuracy (.514). There are two possible reasons for why there is this difference. Either the system state changed after the batch 5 chemical tests (experimental setup, sensor drift, etc), or our model is not as good as we thought."
   ]
  },
  {
   "cell_type": "markdown",
   "metadata": {},
   "source": [
    "# Conclusion"
   ]
  },
  {
   "cell_type": "markdown",
   "metadata": {},
   "source": [
    "So here are some answers to our questions:\n",
    "\n",
    "1. What is the tradeoff between model accuracy and the size of the training data set?  \n",
    "    __A__ We lose hardly any model test accuracy if we run at least 727 experiments\n",
    "2. What is the tradeoff between model accuracy and the number of sensors used?  \n",
    "    __A__ We have extremely good model accuracy if we use 4 sensors, with only minor accuracy loses from using a single sensor\n",
    "3. Does the accuracy of the sensors change over time?  \n",
    "    __A__ The accuracy of the model dramatically changes from our train/testing phase to our ongoing dataset. The reason as to why is currently unknown."
   ]
  },
  {
   "cell_type": "markdown",
   "metadata": {},
   "source": [
    "# Appendix"
   ]
  },
  {
   "cell_type": "code",
   "execution_count": 36,
   "metadata": {},
   "outputs": [
    {
     "name": "stdout",
     "output_type": "stream",
     "text": [
      "[19:23:42] WARNING: D:\\bld\\xgboost-split_1637426510059\\work\\src\\learner.cc:1115: Starting in XGBoost 1.3.0, the default evaluation metric used with the objective 'multi:softprob' was changed from 'merror' to 'mlogloss'. Explicitly set eval_metric if you'd like to restore the old behavior.\n",
      "              precision    recall  f1-score   support\n",
      "\n",
      "           1       0.69      0.68      0.69       704\n",
      "           2       0.85      0.94      0.89       995\n",
      "           3       0.86      0.76      0.81       427\n",
      "           4       0.64      0.61      0.62       450\n",
      "           5       0.86      0.88      0.87       943\n",
      "           6       0.94      0.22      0.35        78\n",
      "\n",
      "    accuracy                           0.80      3597\n",
      "   macro avg       0.81      0.68      0.71      3597\n",
      "weighted avg       0.80      0.80      0.79      3597\n",
      "\n",
      "              precision    recall  f1-score   support\n",
      "\n",
      "           1       0.36      0.37      0.36      1854\n",
      "           2       0.56      0.72      0.63      1921\n",
      "           3       0.28      0.55      0.37      1210\n",
      "           4       0.16      0.34      0.22      1481\n",
      "           5       0.99      0.22      0.36      2057\n",
      "           6       0.00      0.00      0.00      1754\n",
      "\n",
      "    accuracy                           0.36     10277\n",
      "   macro avg       0.39      0.37      0.32     10277\n",
      "weighted avg       0.43      0.36      0.33     10277\n",
      "\n"
     ]
    }
   ],
   "source": [
    "X_train, X_test, y_train, y_test, X_f, y_f = prep_data(s_data, 'ChemicalCode', full_set, ts)\n",
    "\n",
    "xgb_model = xgb.XGBClassifier()\n",
    "xgb_model.fit(X_train, y_train)\n",
    "print(classification_report(y_test, xgb_model.predict(X_test)))\n",
    "print(classification_report(y_f, xgb_model.predict(X_f)))"
   ]
  },
  {
   "cell_type": "code",
   "execution_count": null,
   "metadata": {},
   "outputs": [],
   "source": []
  }
 ],
 "metadata": {
  "kernelspec": {
   "display_name": "Python 3",
   "language": "python",
   "name": "python3"
  },
  "language_info": {
   "codemirror_mode": {
    "name": "ipython",
    "version": 3
   },
   "file_extension": ".py",
   "mimetype": "text/x-python",
   "name": "python",
   "nbconvert_exporter": "python",
   "pygments_lexer": "ipython3",
   "version": "3.8.5"
  }
 },
 "nbformat": 4,
 "nbformat_minor": 4
}

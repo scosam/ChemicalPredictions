{
 "cells": [
  {
   "cell_type": "markdown",
   "metadata": {},
   "source": [
    "# Import Packages & Data"
   ]
  },
  {
   "cell_type": "markdown",
   "metadata": {},
   "source": [
    "## Import Packages"
   ]
  },
  {
   "cell_type": "code",
   "execution_count": 48,
   "metadata": {},
   "outputs": [],
   "source": [
    "import numpy as np\n",
    "import pandas as pd\n",
    "import os\n",
    "import matplotlib.pyplot as plt\n",
    "import seaborn as sns\n",
    "from sklearn.decomposition import PCA\n",
    "from sklearn.preprocessing import StandardScaler\n",
    "from sklearn.model_selection import train_test_split\n",
    "from sklearn.linear_model import Lasso\n",
    "from sklearn.pipeline import Pipeline\n",
    "from sklearn.dummy import DummyClassifier\n",
    "from sklearn.metrics import classification_report, confusion_matrix, ConfusionMatrixDisplay\n",
    "from sklearn.tree import DecisionTreeClassifier, export_graphviz\n",
    "import graphviz"
   ]
  },
  {
   "cell_type": "markdown",
   "metadata": {},
   "source": [
    "## Import Data"
   ]
  },
  {
   "cell_type": "code",
   "execution_count": 3,
   "metadata": {},
   "outputs": [],
   "source": [
    "#Get the relative local folder where the data is stored\n",
    "base_fpath = os.getcwd() #the file path to the working directory of the code\n",
    "d_path = base_fpath.replace('notebooks', 'data') #raw data file path\n",
    "\n",
    "s_data = pd.read_csv(d_path + '/gas_data_cleaned.csv') #sensor data"
   ]
  },
  {
   "cell_type": "markdown",
   "metadata": {},
   "source": [
    "# Scale Data & Feature Reduction/Selection"
   ]
  },
  {
   "cell_type": "markdown",
   "metadata": {},
   "source": [
    "## Split the Data"
   ]
  },
  {
   "cell_type": "code",
   "execution_count": 37,
   "metadata": {},
   "outputs": [],
   "source": [
    "ind_vars = s_data.drop(columns=['ChemicalCode', 'Concentration', 'BatchNumber']).columns #column names of the independent variables\n",
    "tt_data = s_data[s_data['BatchNumber'] <= 5] #train test dataset\n",
    "X_tt = tt_data[ind_vars] #train test independent variable dataset\n",
    "y_tt_code = tt_data['ChemicalCode'] #1st dependent variable\n",
    "y_tt_con = tt_data['Concentration'] #2nd dependent variable\n",
    "\n",
    "test_size = .3\n",
    "X_train, X_test, y_code_train, y_code_test = train_test_split(X_tt, y_tt_code, test_size=test_size, random_state=1991, stratify=y_tt_code) #split the data 1st time\n",
    "X_train, X_test, y_con_train, y_con_test = train_test_split(X_tt, y_tt_con, test_size=test_size, random_state=1991, stratify=y_tt_code) #split the data for the second dependent variable, should be the same\n",
    "\n",
    "f_data = s_data[s_data['BatchNumber'] > 5] #future dataset\n",
    "X_f = f_data[ind_vars] #train test independent variable dataset\n",
    "y_f_code = f_data['ChemicalCode'] #1st dependent variable\n",
    "y_f_con = f_data['Concentration'] #2nd dependent variable"
   ]
  },
  {
   "cell_type": "markdown",
   "metadata": {},
   "source": [
    "## Scale the Data"
   ]
  },
  {
   "cell_type": "code",
   "execution_count": 38,
   "metadata": {},
   "outputs": [],
   "source": [
    "ss = StandardScaler().fit(X_train)\n",
    "X_train_s = pd.DataFrame(ss.transform(X_train), columns=ind_vars)\n",
    "X_test_s = pd.DataFrame(ss.transform(X_test), columns=ind_vars)\n",
    "X_f_s = pd.DataFrame(ss.transform(X_f), columns=ind_vars)"
   ]
  },
  {
   "cell_type": "markdown",
   "metadata": {},
   "source": [
    "## Feature Reduction/Selection"
   ]
  },
  {
   "cell_type": "markdown",
   "metadata": {},
   "source": [
    "### High Correlation Method"
   ]
  },
  {
   "cell_type": "code",
   "execution_count": 15,
   "metadata": {},
   "outputs": [],
   "source": [
    "X_corr_train = pd.read_csv(d_path + '/CorrelationMethod/train.csv')\n",
    "X_corr_test = pd.read_csv(d_path + '/CorrelationMethod/test.csv')\n",
    "X_corr_f = pd.read_csv(d_path + '/CorrelationMethod/future.csv')"
   ]
  },
  {
   "cell_type": "markdown",
   "metadata": {},
   "source": [
    "# Classification of Chemical Species"
   ]
  },
  {
   "cell_type": "markdown",
   "metadata": {},
   "source": [
    "## Baseline Model Creation"
   ]
  },
  {
   "cell_type": "code",
   "execution_count": 46,
   "metadata": {},
   "outputs": [
    {
     "name": "stdout",
     "output_type": "stream",
     "text": [
      "              precision    recall  f1-score   support\n",
      "\n",
      "           1       0.22      0.17      0.19       213\n",
      "           2       0.28      0.19      0.23       302\n",
      "           3       0.13      0.17      0.15       129\n",
      "           4       0.08      0.11      0.09       136\n",
      "           5       0.24      0.16      0.19       286\n",
      "           6       0.01      0.08      0.02        24\n",
      "\n",
      "    accuracy                           0.16      1090\n",
      "   macro avg       0.16      0.15      0.15      1090\n",
      "weighted avg       0.21      0.16      0.18      1090\n",
      "\n"
     ]
    },
    {
     "data": {
      "image/png": "[encoded data removed]",
      "text/plain": [
       "<Figure size 432x288 with 2 Axes>"
      ]
     },
     "metadata": {
      "needs_background": "light"
     },
     "output_type": "display_data"
    }
   ],
   "source": [
    "# Randomly Choose a Chemical Species\n",
    "dc_rand = DummyClassifier(strategy = 'uniform', random_state=1991)\n",
    "dc_rand.fit(X_corr_train, y_code_train)\n",
    "dc_rand.score(X_corr_train, y_code_train)\n",
    "print(classification_report(y_code_test, dc_rand.predict(X_corr_test)))\n",
    "\n",
    "ConfusionMatrixDisplay(confusion_matrix(y_code_test, dc_rand.predict(X_corr_test)), display_labels=dc_rand.classes_).plot()\n",
    "plt.show()"
   ]
  },
  {
   "cell_type": "markdown",
   "metadata": {},
   "source": [
    "Using a random method we would expect the accuracy to be approximately 1 in 6 chance, 16.7%, of guessing the correct number. In this case we had a model accuracy of 16%, so near theoretical. We could also create a model based on the most frequent chemical or account for the distribution of the chemicals tested."
   ]
  },
  {
   "cell_type": "code",
   "execution_count": 47,
   "metadata": {},
   "outputs": [
    {
     "name": "stdout",
     "output_type": "stream",
     "text": [
      "              precision    recall  f1-score   support\n",
      "\n",
      "           1       0.00      0.00      0.00       213\n",
      "           2       0.28      1.00      0.43       302\n",
      "           3       0.00      0.00      0.00       129\n",
      "           4       0.00      0.00      0.00       136\n",
      "           5       0.00      0.00      0.00       286\n",
      "           6       0.00      0.00      0.00        24\n",
      "\n",
      "    accuracy                           0.28      1090\n",
      "   macro avg       0.05      0.17      0.07      1090\n",
      "weighted avg       0.08      0.28      0.12      1090\n",
      "\n"
     ]
    },
    {
     "name": "stderr",
     "output_type": "stream",
     "text": [
      "C:\\Users\\sscov\\anaconda3\\lib\\site-packages\\sklearn\\metrics\\_classification.py:1221: UndefinedMetricWarning: Precision and F-score are ill-defined and being set to 0.0 in labels with no predicted samples. Use `zero_division` parameter to control this behavior.\n",
      "  _warn_prf(average, modifier, msg_start, len(result))\n"
     ]
    }
   ],
   "source": [
    "# Randomly Choose a Chemical Species\n",
    "dc_rand = DummyClassifier(strategy = 'most_frequent', random_state=1991)\n",
    "dc_rand.fit(X_corr_train, y_code_train)\n",
    "dc_rand.score(X_corr_train, y_code_train)\n",
    "print(classification_report(y_code_test, dc_rand.predict(X_corr_test)))"
   ]
  },
  {
   "cell_type": "markdown",
   "metadata": {},
   "source": [
    "In this case our accuracy is 28%, which is the heighest we've seen so far and we can use this model for our baseline performance."
   ]
  },
  {
   "cell_type": "markdown",
   "metadata": {},
   "source": [
    "## Intermediate Model Creation"
   ]
  },
  {
   "cell_type": "markdown",
   "metadata": {},
   "source": [
    "### Classification Tree"
   ]
  },
  {
   "cell_type": "code",
   "execution_count": 74,
   "metadata": {},
   "outputs": [
    {
     "name": "stdout",
     "output_type": "stream",
     "text": [
      "The full model has a depth of 34 and has 1082 leaves\n",
      "\n",
      "\n",
      "              precision    recall  f1-score   support\n",
      "\n",
      "           1       0.18      0.17      0.17       213\n",
      "           2       0.28      0.28      0.28       302\n",
      "           3       0.15      0.16      0.15       129\n",
      "           4       0.15      0.18      0.16       136\n",
      "           5       0.26      0.24      0.25       286\n",
      "           6       0.05      0.04      0.04        24\n",
      "\n",
      "    accuracy                           0.22      1090\n",
      "   macro avg       0.18      0.18      0.18      1090\n",
      "weighted avg       0.22      0.22      0.22      1090\n",
      "\n"
     ]
    }
   ],
   "source": [
    "# Model Creation\n",
    "dt = DecisionTreeClassifier()\n",
    "dt.fit(X_corr_train, y_code_train)\n",
    "\n",
    "print('The full model has a depth of {} and has {} leaves'.format(dt.get_depth(), dt.get_n_leaves()))\n",
    "print('\\n')\n",
    "print(classification_report(y_code_test, dt.predict(X_corr_test)))"
   ]
  },
  {
   "cell_type": "markdown",
   "metadata": {},
   "source": [
    "Based on the number of leaves and depth we can already tell that this model is huge and extremely over fit to the training data. Also when we look at the model accuracy we see that it actually scored less than our most frequent dummy classifier that we created above. In other words we created a very complex model and obtained results worse than guessing a single value. However, lets quickly look at the decision tree to help us get a sense of scale of just how big the tree is."
   ]
  },
  {
   "cell_type": "code",
   "execution_count": 67,
   "metadata": {},
   "outputs": [
    {
     "name": "stderr",
     "output_type": "stream",
     "text": [
      "dot: graph is too large for cairo-renderer bitmaps. Scaling by 0.512168 to fit\n"
     ]
    },
    {
     "data": {
      "text/plain": [
       "'Source.gv.png'"
      ]
     },
     "execution_count": 67,
     "metadata": {},
     "output_type": "execute_result"
    },
    {
     "data": {
      "text/plain": [
       "<Figure size 1080x720 with 0 Axes>"
      ]
     },
     "metadata": {},
     "output_type": "display_data"
    }
   ],
   "source": [
    "# Tree Visualization\n",
    "from IPython.display import Image \n",
    "_ = plt.figure(figsize = (15,10))\n",
    "dot_data = export_graphviz(dt, out_file=None, filled=True, rounded=True, feature_names=X_corr_train.columns, impurity=False, class_names=str(dt.classes_))\n",
    "\n",
    "graph = graphviz.Source(dot_data)\n",
    "graph.format = 'png'\n",
    "graph.render()\n",
    "#display(graph)"
   ]
  },
  {
   "cell_type": "markdown",
   "metadata": {},
   "source": [
    "The graph was way too large to have it inline, so here is the imported picture of the tree. We can see that the tree is extremely wide compared to how deep it is as it fits each element perfectly. Let's now trim the tree by specifiying a maximum depth.\n",
    "![alt text](Source.png \"Full Classification Tree\")"
   ]
  },
  {
   "cell_type": "code",
   "execution_count": 84,
   "metadata": {},
   "outputs": [
    {
     "data": {
      "image/png": "[encoded data removed]",
      "text/plain": [
       "<Figure size 432x288 with 1 Axes>"
      ]
     },
     "metadata": {
      "needs_background": "light"
     },
     "output_type": "display_data"
    }
   ],
   "source": [
    "#Tree Depth Selection\n",
    "depth_scores = []\n",
    "\n",
    "for d in range(3, 20):\n",
    "    dt = DecisionTreeClassifier(max_depth=d, random_state=1991)\n",
    "    dt.fit(X_corr_train, y_code_train)\n",
    "    depth_scores.append(dt.score(X_corr_test, y_code_test))\n",
    "\n",
    "plt.plot(range(3,20), depth_scores, marker='o')\n",
    "plt.title('Model accuracy vs. tree depth')\n",
    "plt.ylabel('Accuracy')\n",
    "plt.xlabel('Tree depth')\n",
    "\n",
    "plt.show()"
   ]
  },
  {
   "cell_type": "markdown",
   "metadata": {},
   "source": [
    "For the most part the model accuracy seems to linearly decrease with respect to the tree depth, with no distinct elbow. Let's also try controlling the maximum number of leaves."
   ]
  },
  {
   "cell_type": "code",
   "execution_count": 85,
   "metadata": {},
   "outputs": [
    {
     "data": {
      "image/png": "[encoded data removed]",
      "text/plain": [
       "<Figure size 432x288 with 1 Axes>"
      ]
     },
     "metadata": {
      "needs_background": "light"
     },
     "output_type": "display_data"
    }
   ],
   "source": [
    "#Tree Depth Selection\n",
    "leaf_scores = []\n",
    "\n",
    "for l in range(10, 501, 2):\n",
    "    dt = DecisionTreeClassifier(max_leaf_nodes=l, random_state=1991)\n",
    "    dt.fit(X_corr_train, y_code_train)\n",
    "    leaf_scores.append(dt.score(X_corr_test, y_code_test))\n",
    "\n",
    "plt.plot(range(10,501, 2), leaf_scores, marker='o')\n",
    "plt.title('Model accuracy vs. tree depth')\n",
    "plt.xlabel('Number of Leaves')\n",
    "plt.ylabel('Accuracy')\n",
    "\n",
    "plt.show()"
   ]
  },
  {
   "cell_type": "markdown",
   "metadata": {},
   "source": [
    "although we can see a trend or peak value in each of the tradeoffs developed we still do not have better model accuracy than our basic model. Ok let's go the opposite route and use our entire feature set and see if we can get better accuracy than our baseline."
   ]
  },
  {
   "cell_type": "code",
   "execution_count": 87,
   "metadata": {},
   "outputs": [
    {
     "data": {
      "image/png": "[encoded data removed]",
      "text/plain": [
       "<Figure size 432x288 with 1 Axes>"
      ]
     },
     "metadata": {
      "needs_background": "light"
     },
     "output_type": "display_data"
    }
   ],
   "source": [
    "depth_scores = []\n",
    "\n",
    "for d in range(3, 20):\n",
    "    dt = DecisionTreeClassifier(max_depth=d, random_state=1991)\n",
    "    dt.fit(X_train, y_code_train)\n",
    "    depth_scores.append(dt.score(X_test, y_code_test))\n",
    "\n",
    "plt.plot(range(3,20), depth_scores, marker='o')\n",
    "plt.title('Model accuracy vs. tree depth')\n",
    "plt.ylabel('Accuracy')\n",
    "plt.xlabel('Tree depth')\n",
    "plt.grid(True)\n",
    "\n",
    "plt.show()"
   ]
  },
  {
   "cell_type": "code",
   "execution_count": 88,
   "metadata": {},
   "outputs": [
    {
     "name": "stdout",
     "output_type": "stream",
     "text": [
      "The full model has a depth of 8 and has 55 leaves\n",
      "\n",
      "\n",
      "              precision    recall  f1-score   support\n",
      "\n",
      "           1       0.98      0.96      0.97       213\n",
      "           2       0.99      1.00      0.99       302\n",
      "           3       0.96      0.98      0.97       129\n",
      "           4       0.96      0.93      0.95       136\n",
      "           5       0.98      0.99      0.99       286\n",
      "           6       1.00      0.96      0.98        24\n",
      "\n",
      "    accuracy                           0.98      1090\n",
      "   macro avg       0.98      0.97      0.97      1090\n",
      "weighted avg       0.98      0.98      0.98      1090\n",
      "\n"
     ]
    }
   ],
   "source": [
    "dt = DecisionTreeClassifier(max_depth=8, random_state=1991)\n",
    "dt.fit(X_train, y_code_train)\n",
    "\n",
    "print('The full model has a depth of {} and has {} leaves'.format(dt.get_depth(), dt.get_n_leaves()))\n",
    "print('\\n')\n",
    "print(classification_report(y_code_test, dt.predict(X_test)))"
   ]
  },
  {
   "cell_type": "markdown",
   "metadata": {},
   "source": [
    "So although we are now using the full feature set, our model can obtain 98% accuracy, well above our baseline, with only 55 leaves and a tree depth of 8. This indicates to me that the correlation feature set is not well suited for predicting the chemical being processed. Let's look at the importance of each feature in this prediction and look how it differs from our correlation feature set."
   ]
  },
  {
   "cell_type": "code",
   "execution_count": 99,
   "metadata": {},
   "outputs": [
    {
     "data": {
      "text/html": [
       "<div>\n",
       "<style scoped>\n",
       "    .dataframe tbody tr th:only-of-type {\n",
       "        vertical-align: middle;\n",
       "    }\n",
       "\n",
       "    .dataframe tbody tr th {\n",
       "        vertical-align: top;\n",
       "    }\n",
       "\n",
       "    .dataframe thead th {\n",
       "        text-align: right;\n",
       "    }\n",
       "</style>\n",
       "<table border=\"1\" class=\"dataframe\">\n",
       "  <thead>\n",
       "    <tr style=\"text-align: right;\">\n",
       "      <th></th>\n",
       "      <th>Variable</th>\n",
       "      <th>Importance</th>\n",
       "    </tr>\n",
       "  </thead>\n",
       "  <tbody>\n",
       "    <tr>\n",
       "      <th>2</th>\n",
       "      <td>EMAd0.001_1</td>\n",
       "      <td>0.261241</td>\n",
       "    </tr>\n",
       "    <tr>\n",
       "      <th>7</th>\n",
       "      <td>EMAd0.1_2</td>\n",
       "      <td>0.227064</td>\n",
       "    </tr>\n",
       "    <tr>\n",
       "      <th>18</th>\n",
       "      <td>|DR|_7</td>\n",
       "      <td>0.157333</td>\n",
       "    </tr>\n",
       "    <tr>\n",
       "      <th>23</th>\n",
       "      <td>|DR|_10</td>\n",
       "      <td>0.102853</td>\n",
       "    </tr>\n",
       "    <tr>\n",
       "      <th>32</th>\n",
       "      <td>EMAi0.1_13</td>\n",
       "      <td>0.045463</td>\n",
       "    </tr>\n",
       "    <tr>\n",
       "      <th>0</th>\n",
       "      <td>DR_1</td>\n",
       "      <td>0.031565</td>\n",
       "    </tr>\n",
       "    <tr>\n",
       "      <th>27</th>\n",
       "      <td>EMAi0.01_11</td>\n",
       "      <td>0.024405</td>\n",
       "    </tr>\n",
       "    <tr>\n",
       "      <th>10</th>\n",
       "      <td>DR_4</td>\n",
       "      <td>0.023959</td>\n",
       "    </tr>\n",
       "    <tr>\n",
       "      <th>20</th>\n",
       "      <td>|DR|_9</td>\n",
       "      <td>0.020357</td>\n",
       "    </tr>\n",
       "    <tr>\n",
       "      <th>16</th>\n",
       "      <td>|DR|_6</td>\n",
       "      <td>0.016619</td>\n",
       "    </tr>\n",
       "    <tr>\n",
       "      <th>9</th>\n",
       "      <td>EMAi0.001_3</td>\n",
       "      <td>0.012855</td>\n",
       "    </tr>\n",
       "    <tr>\n",
       "      <th>30</th>\n",
       "      <td>EMAi0.01_12</td>\n",
       "      <td>0.008658</td>\n",
       "    </tr>\n",
       "    <tr>\n",
       "      <th>25</th>\n",
       "      <td>EMAd0.01_10</td>\n",
       "      <td>0.007924</td>\n",
       "    </tr>\n",
       "    <tr>\n",
       "      <th>3</th>\n",
       "      <td>DR_2</td>\n",
       "      <td>0.007486</td>\n",
       "    </tr>\n",
       "    <tr>\n",
       "      <th>8</th>\n",
       "      <td>DR_3</td>\n",
       "      <td>0.007174</td>\n",
       "    </tr>\n",
       "    <tr>\n",
       "      <th>1</th>\n",
       "      <td>EMAi0.001_1</td>\n",
       "      <td>0.006699</td>\n",
       "    </tr>\n",
       "    <tr>\n",
       "      <th>15</th>\n",
       "      <td>EMAd0.01_5</td>\n",
       "      <td>0.006091</td>\n",
       "    </tr>\n",
       "    <tr>\n",
       "      <th>5</th>\n",
       "      <td>EMAi0.01_2</td>\n",
       "      <td>0.003844</td>\n",
       "    </tr>\n",
       "    <tr>\n",
       "      <th>17</th>\n",
       "      <td>EMAd0.01_6</td>\n",
       "      <td>0.003721</td>\n",
       "    </tr>\n",
       "    <tr>\n",
       "      <th>31</th>\n",
       "      <td>EMAd0.1_12</td>\n",
       "      <td>0.003196</td>\n",
       "    </tr>\n",
       "    <tr>\n",
       "      <th>24</th>\n",
       "      <td>EMAd0.001_10</td>\n",
       "      <td>0.00273</td>\n",
       "    </tr>\n",
       "    <tr>\n",
       "      <th>11</th>\n",
       "      <td>EMAd0.001_4</td>\n",
       "      <td>0.00232</td>\n",
       "    </tr>\n",
       "    <tr>\n",
       "      <th>33</th>\n",
       "      <td>|DR|_14</td>\n",
       "      <td>0.00181</td>\n",
       "    </tr>\n",
       "    <tr>\n",
       "      <th>4</th>\n",
       "      <td>|DR|_2</td>\n",
       "      <td>0.001808</td>\n",
       "    </tr>\n",
       "    <tr>\n",
       "      <th>6</th>\n",
       "      <td>EMAd0.01_2</td>\n",
       "      <td>0.001613</td>\n",
       "    </tr>\n",
       "    <tr>\n",
       "      <th>29</th>\n",
       "      <td>EMAd0.1_11</td>\n",
       "      <td>0.00143</td>\n",
       "    </tr>\n",
       "    <tr>\n",
       "      <th>22</th>\n",
       "      <td>EMAd0.1_9</td>\n",
       "      <td>0.001228</td>\n",
       "    </tr>\n",
       "    <tr>\n",
       "      <th>13</th>\n",
       "      <td>EMAi0.001_5</td>\n",
       "      <td>0.001003</td>\n",
       "    </tr>\n",
       "    <tr>\n",
       "      <th>35</th>\n",
       "      <td>EMAd0.001_14</td>\n",
       "      <td>0.00096</td>\n",
       "    </tr>\n",
       "    <tr>\n",
       "      <th>14</th>\n",
       "      <td>EMAi0.01_5</td>\n",
       "      <td>0.00093</td>\n",
       "    </tr>\n",
       "    <tr>\n",
       "      <th>28</th>\n",
       "      <td>EMAd0.001_11</td>\n",
       "      <td>0.000907</td>\n",
       "    </tr>\n",
       "    <tr>\n",
       "      <th>12</th>\n",
       "      <td>EMAd0.01_4</td>\n",
       "      <td>0.000806</td>\n",
       "    </tr>\n",
       "    <tr>\n",
       "      <th>37</th>\n",
       "      <td>EMAd0.001_15</td>\n",
       "      <td>0.000756</td>\n",
       "    </tr>\n",
       "    <tr>\n",
       "      <th>19</th>\n",
       "      <td>EMAd0.01_8</td>\n",
       "      <td>0.000756</td>\n",
       "    </tr>\n",
       "    <tr>\n",
       "      <th>21</th>\n",
       "      <td>EMAd0.01_9</td>\n",
       "      <td>0.000672</td>\n",
       "    </tr>\n",
       "    <tr>\n",
       "      <th>38</th>\n",
       "      <td>EMAd0.01_16</td>\n",
       "      <td>0.000672</td>\n",
       "    </tr>\n",
       "    <tr>\n",
       "      <th>36</th>\n",
       "      <td>EMAi0.01_15</td>\n",
       "      <td>0.000504</td>\n",
       "    </tr>\n",
       "    <tr>\n",
       "      <th>34</th>\n",
       "      <td>EMAi0.01_14</td>\n",
       "      <td>0.000502</td>\n",
       "    </tr>\n",
       "    <tr>\n",
       "      <th>26</th>\n",
       "      <td>|DR|_11</td>\n",
       "      <td>0.000089</td>\n",
       "    </tr>\n",
       "  </tbody>\n",
       "</table>\n",
       "</div>"
      ],
      "text/plain": [
       "        Variable Importance\n",
       "2    EMAd0.001_1   0.261241\n",
       "7      EMAd0.1_2   0.227064\n",
       "18        |DR|_7   0.157333\n",
       "23       |DR|_10   0.102853\n",
       "32    EMAi0.1_13   0.045463\n",
       "0           DR_1   0.031565\n",
       "27   EMAi0.01_11   0.024405\n",
       "10          DR_4   0.023959\n",
       "20        |DR|_9   0.020357\n",
       "16        |DR|_6   0.016619\n",
       "9    EMAi0.001_3   0.012855\n",
       "30   EMAi0.01_12   0.008658\n",
       "25   EMAd0.01_10   0.007924\n",
       "3           DR_2   0.007486\n",
       "8           DR_3   0.007174\n",
       "1    EMAi0.001_1   0.006699\n",
       "15    EMAd0.01_5   0.006091\n",
       "5     EMAi0.01_2   0.003844\n",
       "17    EMAd0.01_6   0.003721\n",
       "31    EMAd0.1_12   0.003196\n",
       "24  EMAd0.001_10    0.00273\n",
       "11   EMAd0.001_4    0.00232\n",
       "33       |DR|_14    0.00181\n",
       "4         |DR|_2   0.001808\n",
       "6     EMAd0.01_2   0.001613\n",
       "29    EMAd0.1_11    0.00143\n",
       "22     EMAd0.1_9   0.001228\n",
       "13   EMAi0.001_5   0.001003\n",
       "35  EMAd0.001_14    0.00096\n",
       "14    EMAi0.01_5    0.00093\n",
       "28  EMAd0.001_11   0.000907\n",
       "12    EMAd0.01_4   0.000806\n",
       "37  EMAd0.001_15   0.000756\n",
       "19    EMAd0.01_8   0.000756\n",
       "21    EMAd0.01_9   0.000672\n",
       "38   EMAd0.01_16   0.000672\n",
       "36   EMAi0.01_15   0.000504\n",
       "34   EMAi0.01_14   0.000502\n",
       "26       |DR|_11   0.000089"
      ]
     },
     "execution_count": 99,
     "metadata": {},
     "output_type": "execute_result"
    }
   ],
   "source": [
    "fi = dt.feature_importances_\n",
    "dt_feats = X_train.columns[fi > 0].tolist()\n",
    "dt_feats = pd.DataFrame([dt_feats, fi[fi > 0]], index=['Variable', 'Importance'])\n",
    "dt_feats.T.sort_values('Importance', ascending=False)"
   ]
  },
  {
   "cell_type": "code",
   "execution_count": 105,
   "metadata": {},
   "outputs": [
    {
     "data": {
      "text/plain": [
       "['DR_1', 'EMAd0.01_4', 'EMAi0.01_5', 'EMAd0.01_5', 'EMAd0.01_6']"
      ]
     },
     "execution_count": 105,
     "metadata": {},
     "output_type": "execute_result"
    }
   ],
   "source": [
    "[f for f in X_corr_train.columns.tolist() if f in X_train.columns[fi>0].tolist()]"
   ]
  },
  {
   "cell_type": "markdown",
   "metadata": {},
   "source": [
    "So this basic classification model has determined that only 38 features, out of the 128 we started with, have any importance whatsoever in predicting which chemical is being processed. Also out of those 38 important features, we only selected five of the features using our correlation method, four of which have a significance value less than 0.01."
   ]
  },
  {
   "cell_type": "markdown",
   "metadata": {},
   "source": [
    "## Grid Search & Cross Fold "
   ]
  },
  {
   "cell_type": "markdown",
   "metadata": {},
   "source": [
    "# M"
   ]
  },
  {
   "cell_type": "markdown",
   "metadata": {},
   "source": []
  },
  {
   "cell_type": "code",
   "execution_count": null,
   "metadata": {},
   "outputs": [],
   "source": []
  }
 ],
 "metadata": {
  "kernelspec": {
   "display_name": "Python 3",
   "language": "python",
   "name": "python3"
  },
  "language_info": {
   "codemirror_mode": {
    "name": "ipython",
    "version": 3
   },
   "file_extension": ".py",
   "mimetype": "text/x-python",
   "name": "python",
   "nbconvert_exporter": "python",
   "pygments_lexer": "ipython3",
   "version": "3.8.5"
  }
 },
 "nbformat": 4,
 "nbformat_minor": 4
}
